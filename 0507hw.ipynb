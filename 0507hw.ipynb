{
  "cells": [
    {
      "metadata": {
        "collapsed": true
      },
      "cell_type": "markdown",
      "source": "## CNN Practice"
    },
    {
      "metadata": {
        "trusted": true
      },
      "cell_type": "code",
      "source": "%env KERAS_BACKEND=tensorflow ",
      "execution_count": 2,
      "outputs": [
        {
          "output_type": "stream",
          "text": "env: KERAS_BACKEND=tensorflow\n",
          "name": "stdout"
        }
      ]
    },
    {
      "metadata": {},
      "cell_type": "markdown",
      "source": "### 首先放入基本的元素"
    },
    {
      "metadata": {
        "trusted": true
      },
      "cell_type": "code",
      "source": "%matplotlib inline\nimport numpy as np\nimport pandas as pd\nimport matplotlib.pyplot as plt",
      "execution_count": 4,
      "outputs": []
    },
    {
      "metadata": {},
      "cell_type": "markdown",
      "source": "### 開始準備訓練資料"
    },
    {
      "metadata": {
        "trusted": true
      },
      "cell_type": "code",
      "source": "from keras.datasets import mnist",
      "execution_count": 5,
      "outputs": [
        {
          "output_type": "stream",
          "text": "Using TensorFlow backend.\n",
          "name": "stderr"
        }
      ]
    },
    {
      "metadata": {
        "trusted": true
      },
      "cell_type": "code",
      "source": "(x_train0,y_train0) , (x_test0,y_test0) = mnist.load_data()",
      "execution_count": 6,
      "outputs": [
        {
          "output_type": "stream",
          "text": "Downloading data from https://s3.amazonaws.com/img-datasets/mnist.npz\n11493376/11490434 [==============================] - 2s 0us/step\n",
          "name": "stdout"
        }
      ]
    },
    {
      "metadata": {
        "trusted": true
      },
      "cell_type": "code",
      "source": "print('訓練資料共輸入%d筆資料,每筆資料%dx%d'%x_train0.shape)",
      "execution_count": 8,
      "outputs": [
        {
          "output_type": "stream",
          "text": "訓練資料共輸入60000筆資料,有筆資料28x28\n",
          "name": "stdout"
        }
      ]
    },
    {
      "metadata": {
        "trusted": true
      },
      "cell_type": "code",
      "source": "x_train = x_train0.reshape(60000,28,28,1)\nx_test = x_test0.reshape(10000,28,28,1)\nx_train = x_train/255\nx_test = x_test/255",
      "execution_count": 12,
      "outputs": []
    },
    {
      "metadata": {
        "trusted": true
      },
      "cell_type": "code",
      "source": "print('新的訓練資料共輸入%d筆資料,每筆資料%dx%d,只有灰階這%d層'%x_train.shape)",
      "execution_count": 15,
      "outputs": [
        {
          "output_type": "stream",
          "text": "新的訓練資料共輸入60000筆資料,每筆資料28x28,只有灰階這1層\n",
          "name": "stdout"
        }
      ]
    },
    {
      "metadata": {},
      "cell_type": "markdown",
      "source": "#### 記得輸出要one_hard encoding"
    },
    {
      "metadata": {
        "trusted": true
      },
      "cell_type": "code",
      "source": "from keras.utils import np_utils\ny_train = np_utils.to_categorical(y_train0,10)\ny_test = np_utils.to_categorical(y_test0,10)",
      "execution_count": 17,
      "outputs": []
    },
    {
      "metadata": {},
      "cell_type": "markdown",
      "source": "### 開始架設神經網路"
    },
    {
      "metadata": {
        "trusted": true
      },
      "cell_type": "code",
      "source": "from keras.models import Sequential\nfrom keras.layers import Dense,Activation,Flatten,Conv2D,MaxPool2D\nfrom keras.optimizers import SGD,Adam",
      "execution_count": 38,
      "outputs": []
    },
    {
      "metadata": {
        "trusted": true
      },
      "cell_type": "code",
      "source": "model = Sequential()",
      "execution_count": 39,
      "outputs": []
    },
    {
      "metadata": {},
      "cell_type": "markdown",
      "source": "#### 第一層Conv"
    },
    {
      "metadata": {
        "trusted": true
      },
      "cell_type": "code",
      "source": "model.add(Conv2D(8 , (4,4),padding='same',input_shape=(28,28,1)))\nmodel.add(Activation('relu'))",
      "execution_count": 40,
      "outputs": []
    },
    {
      "metadata": {},
      "cell_type": "markdown",
      "source": "#### 第一層max_pooling"
    },
    {
      "metadata": {
        "trusted": true
      },
      "cell_type": "code",
      "source": "model.add(MaxPool2D(pool_size=(2,2)))",
      "execution_count": 41,
      "outputs": []
    },
    {
      "metadata": {},
      "cell_type": "markdown",
      "source": "#### 第二層Conv"
    },
    {
      "metadata": {
        "trusted": true
      },
      "cell_type": "code",
      "source": "model.add(Conv2D(16 , (4,4),padding='same'))\nmodel.add(Activation('relu'))",
      "execution_count": 42,
      "outputs": []
    },
    {
      "metadata": {},
      "cell_type": "markdown",
      "source": "#### 第二層max_pooling"
    },
    {
      "metadata": {
        "trusted": true
      },
      "cell_type": "code",
      "source": "model.add(MaxPool2D(pool_size=(2,2)))",
      "execution_count": 43,
      "outputs": []
    },
    {
      "metadata": {},
      "cell_type": "markdown",
      "source": "#### 第三層Conv"
    },
    {
      "metadata": {
        "trusted": true
      },
      "cell_type": "code",
      "source": "model.add(Conv2D(32 , (4,4),padding='same'))\nmodel.add(Activation('relu'))",
      "execution_count": 44,
      "outputs": []
    },
    {
      "metadata": {},
      "cell_type": "markdown",
      "source": "#### 第三層max_pooling"
    },
    {
      "metadata": {
        "trusted": true
      },
      "cell_type": "code",
      "source": "model.add(MaxPool2D(pool_size=(2,2)))",
      "execution_count": 45,
      "outputs": []
    },
    {
      "metadata": {},
      "cell_type": "markdown",
      "source": "#### 拉平"
    },
    {
      "metadata": {
        "trusted": true
      },
      "cell_type": "code",
      "source": "model.add(Flatten())",
      "execution_count": 46,
      "outputs": []
    },
    {
      "metadata": {},
      "cell_type": "markdown",
      "source": "####  接到NN"
    },
    {
      "metadata": {
        "trusted": true
      },
      "cell_type": "code",
      "source": "model.add(Dense(10))\nmodel.add(Activation('relu'))",
      "execution_count": 47,
      "outputs": []
    },
    {
      "metadata": {},
      "cell_type": "markdown",
      "source": "#### 輸出"
    },
    {
      "metadata": {
        "trusted": true
      },
      "cell_type": "code",
      "source": "model.add(Dense(10))\nmodel.add(Activation('softmax'))",
      "execution_count": 49,
      "outputs": []
    },
    {
      "metadata": {},
      "cell_type": "markdown",
      "source": "#### 記得要組裝"
    },
    {
      "metadata": {
        "trusted": true
      },
      "cell_type": "code",
      "source": "model.compile(loss='mse',optimizer=Adam(lr=0.001,beta_1=0.9, beta_2=0.999, epsilon=None, decay=0.0, amsgrad=False),metrics=['accuracy'])",
      "execution_count": 51,
      "outputs": []
    },
    {
      "metadata": {},
      "cell_type": "markdown",
      "source": "#### summary"
    },
    {
      "metadata": {
        "trusted": true
      },
      "cell_type": "code",
      "source": "model.summary()",
      "execution_count": 52,
      "outputs": [
        {
          "output_type": "stream",
          "text": "_________________________________________________________________\nLayer (type)                 Output Shape              Param #   \n=================================================================\nconv2d_8 (Conv2D)            (None, 28, 28, 8)         136       \n_________________________________________________________________\nactivation_7 (Activation)    (None, 28, 28, 8)         0         \n_________________________________________________________________\nmax_pooling2d_7 (MaxPooling2 (None, 14, 14, 8)         0         \n_________________________________________________________________\nconv2d_9 (Conv2D)            (None, 14, 14, 16)        2064      \n_________________________________________________________________\nactivation_8 (Activation)    (None, 14, 14, 16)        0         \n_________________________________________________________________\nmax_pooling2d_8 (MaxPooling2 (None, 7, 7, 16)          0         \n_________________________________________________________________\nconv2d_10 (Conv2D)           (None, 7, 7, 32)          8224      \n_________________________________________________________________\nactivation_9 (Activation)    (None, 7, 7, 32)          0         \n_________________________________________________________________\nmax_pooling2d_9 (MaxPooling2 (None, 3, 3, 32)          0         \n_________________________________________________________________\nflatten_1 (Flatten)          (None, 288)               0         \n_________________________________________________________________\ndense_1 (Dense)              (None, 10)                2890      \n_________________________________________________________________\nactivation_10 (Activation)   (None, 10)                0         \n_________________________________________________________________\ndense_2 (Dense)              (None, 10)                110       \n_________________________________________________________________\nactivation_11 (Activation)   (None, 10)                0         \n_________________________________________________________________\ndense_3 (Dense)              (None, 10)                110       \n_________________________________________________________________\nactivation_12 (Activation)   (None, 10)                0         \n=================================================================\nTotal params: 13,534\nTrainable params: 13,534\nNon-trainable params: 0\n_________________________________________________________________\n",
          "name": "stdout"
        }
      ]
    },
    {
      "metadata": {
        "trusted": true
      },
      "cell_type": "code",
      "source": "model.fit(x_train,y_train,batch_size=100,epochs=50)",
      "execution_count": 53,
      "outputs": [
        {
          "output_type": "stream",
          "text": "Epoch 1/50\n60000/60000 [==============================] - 48s 805us/step - loss: 0.0236 - acc: 0.8186\nEpoch 2/50\n60000/60000 [==============================] - 40s 661us/step - loss: 0.0061 - acc: 0.9608\nEpoch 3/50\n60000/60000 [==============================] - 38s 639us/step - loss: 0.0046 - acc: 0.9704\nEpoch 4/50\n60000/60000 [==============================] - 38s 631us/step - loss: 0.0037 - acc: 0.9774\nEpoch 5/50\n60000/60000 [==============================] - 38s 633us/step - loss: 0.0031 - acc: 0.9803\nEpoch 6/50\n60000/60000 [==============================] - 38s 637us/step - loss: 0.0026 - acc: 0.9831\nEpoch 7/50\n60000/60000 [==============================] - 38s 634us/step - loss: 0.0024 - acc: 0.9851\nEpoch 8/50\n60000/60000 [==============================] - 39s 647us/step - loss: 0.0022 - acc: 0.9860\nEpoch 9/50\n60000/60000 [==============================] - 38s 633us/step - loss: 0.0019 - acc: 0.9883\nEpoch 10/50\n60000/60000 [==============================] - 51s 852us/step - loss: 0.0018 - acc: 0.9886\nEpoch 11/50\n60000/60000 [==============================] - 40s 670us/step - loss: 0.0017 - acc: 0.9894\nEpoch 12/50\n60000/60000 [==============================] - 38s 639us/step - loss: 0.0015 - acc: 0.9906\nEpoch 13/50\n60000/60000 [==============================] - 38s 639us/step - loss: 0.0014 - acc: 0.9916\nEpoch 14/50\n60000/60000 [==============================] - 42s 697us/step - loss: 0.0013 - acc: 0.9923\nEpoch 15/50\n60000/60000 [==============================] - 41s 684us/step - loss: 0.0013 - acc: 0.9920\nEpoch 16/50\n60000/60000 [==============================] - 38s 639us/step - loss: 0.0012 - acc: 0.9927\nEpoch 17/50\n60000/60000 [==============================] - 39s 655us/step - loss: 0.0011 - acc: 0.9932\nEpoch 18/50\n60000/60000 [==============================] - 40s 666us/step - loss: 9.9840e-04 - acc: 0.9940\nEpoch 19/50\n60000/60000 [==============================] - 44s 734us/step - loss: 0.0010 - acc: 0.9936\nEpoch 20/50\n60000/60000 [==============================] - 43s 720us/step - loss: 9.8113e-04 - acc: 0.9939\nEpoch 21/50\n60000/60000 [==============================] - 42s 696us/step - loss: 8.2628e-04 - acc: 0.9951\nEpoch 22/50\n60000/60000 [==============================] - 40s 661us/step - loss: 8.2741e-04 - acc: 0.9951\nEpoch 23/50\n60000/60000 [==============================] - 48s 796us/step - loss: 8.8191e-04 - acc: 0.9946\nEpoch 24/50\n60000/60000 [==============================] - 50s 832us/step - loss: 8.0133e-04 - acc: 0.9953\nEpoch 25/50\n60000/60000 [==============================] - 42s 693us/step - loss: 7.4326e-04 - acc: 0.9954\nEpoch 26/50\n60000/60000 [==============================] - 41s 682us/step - loss: 6.4866e-04 - acc: 0.9964\nEpoch 27/50\n60000/60000 [==============================] - 42s 693us/step - loss: 7.2332e-04 - acc: 0.9956\nEpoch 28/50\n60000/60000 [==============================] - 42s 697us/step - loss: 7.3447e-04 - acc: 0.9955\nEpoch 29/50\n60000/60000 [==============================] - 42s 697us/step - loss: 6.7263e-04 - acc: 0.9959\nEpoch 30/50\n60000/60000 [==============================] - 41s 690us/step - loss: 6.2000e-04 - acc: 0.9963\nEpoch 31/50\n60000/60000 [==============================] - 42s 692us/step - loss: 6.7179e-04 - acc: 0.9960\nEpoch 32/50\n60000/60000 [==============================] - 41s 678us/step - loss: 5.6286e-04 - acc: 0.9964\nEpoch 33/50\n60000/60000 [==============================] - 41s 678us/step - loss: 5.9578e-04 - acc: 0.9963\nEpoch 34/50\n60000/60000 [==============================] - 40s 662us/step - loss: 4.7701e-04 - acc: 0.9973\nEpoch 35/50\n60000/60000 [==============================] - 43s 719us/step - loss: 5.6128e-04 - acc: 0.9967\nEpoch 36/50\n60000/60000 [==============================] - 50s 833us/step - loss: 5.6721e-04 - acc: 0.9968\nEpoch 37/50\n60000/60000 [==============================] - 43s 713us/step - loss: 5.4578e-04 - acc: 0.9967\nEpoch 38/50\n60000/60000 [==============================] - 42s 706us/step - loss: 5.2088e-04 - acc: 0.9969\nEpoch 39/50\n60000/60000 [==============================] - 43s 719us/step - loss: 5.4492e-04 - acc: 0.9968\nEpoch 40/50\n60000/60000 [==============================] - 47s 780us/step - loss: 5.8012e-04 - acc: 0.9966\nEpoch 41/50\n60000/60000 [==============================] - 41s 690us/step - loss: 5.2770e-04 - acc: 0.9969\nEpoch 42/50\n60000/60000 [==============================] - 45s 746us/step - loss: 5.2955e-04 - acc: 0.9968\nEpoch 43/50\n60000/60000 [==============================] - 43s 714us/step - loss: 4.0104e-04 - acc: 0.9976\nEpoch 44/50\n60000/60000 [==============================] - 48s 806us/step - loss: 4.9922e-04 - acc: 0.9969\nEpoch 45/50\n60000/60000 [==============================] - 44s 738us/step - loss: 5.1156e-04 - acc: 0.9969\nEpoch 46/50\n60000/60000 [==============================] - 51s 844us/step - loss: 4.6114e-04 - acc: 0.9972\nEpoch 47/50\n60000/60000 [==============================] - 44s 730us/step - loss: 5.4999e-04 - acc: 0.9968\nEpoch 48/50\n60000/60000 [==============================] - 50s 841us/step - loss: 4.5741e-04 - acc: 0.9972\nEpoch 49/50\n60000/60000 [==============================] - 45s 750us/step - loss: 4.5062e-04 - acc: 0.9975\nEpoch 50/50\n60000/60000 [==============================] - 41s 681us/step - loss: 4.6066e-04 - acc: 0.9972\n",
          "name": "stdout"
        },
        {
          "output_type": "execute_result",
          "execution_count": 53,
          "data": {
            "text/plain": "<keras.callbacks.History at 0x7f4acd2b9208>"
          },
          "metadata": {}
        }
      ]
    }
  ],
  "metadata": {
    "kernelspec": {
      "name": "python36",
      "display_name": "Python 3.6",
      "language": "python"
    },
    "language_info": {
      "mimetype": "text/x-python",
      "nbconvert_exporter": "python",
      "name": "python",
      "pygments_lexer": "ipython3",
      "version": "3.6.6",
      "file_extension": ".py",
      "codemirror_mode": {
        "version": 3,
        "name": "ipython"
      }
    }
  },
  "nbformat": 4,
  "nbformat_minor": 2
}
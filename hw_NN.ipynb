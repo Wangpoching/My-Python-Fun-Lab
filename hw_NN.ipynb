{
  "cells": [
    {
      "metadata": {
        "trusted": true
      },
      "cell_type": "code",
      "source": "%env KERAS_BACKEND = tensorflow\n%matplotlib inline\n\nimport numpy as np\nimport matplotlib.pyplot as plt\nfrom keras.datasets import mnist",
      "execution_count": 3,
      "outputs": [
        {
          "output_type": "stream",
          "text": "env: KERAS_BACKEND=tensorflow\n",
          "name": "stdout"
        }
      ]
    },
    {
      "metadata": {
        "trusted": true
      },
      "cell_type": "code",
      "source": "(x_train,y_train),(x_test,y_test) = mnist.load_data()",
      "execution_count": 4,
      "outputs": []
    },
    {
      "metadata": {
        "trusted": true
      },
      "cell_type": "code",
      "source": "x_train = x_train.reshape(60000,784) / x_train.max()",
      "execution_count": 5,
      "outputs": []
    },
    {
      "metadata": {
        "trusted": true
      },
      "cell_type": "code",
      "source": "x_test = x_test.reshape(10000,784) / x_test.max()",
      "execution_count": 6,
      "outputs": []
    },
    {
      "metadata": {
        "trusted": true
      },
      "cell_type": "code",
      "source": "from keras.utils import np_utils",
      "execution_count": 7,
      "outputs": []
    },
    {
      "metadata": {
        "trusted": true
      },
      "cell_type": "code",
      "source": "y_train = np_utils.to_categorical(y_train)",
      "execution_count": 8,
      "outputs": []
    },
    {
      "metadata": {
        "trusted": true
      },
      "cell_type": "code",
      "source": "y_test = np_utils.to_categorical(y_test)",
      "execution_count": 9,
      "outputs": []
    },
    {
      "metadata": {
        "trusted": true
      },
      "cell_type": "code",
      "source": "y_train[0]",
      "execution_count": 10,
      "outputs": [
        {
          "output_type": "execute_result",
          "execution_count": 10,
          "data": {
            "text/plain": "array([0., 0., 0., 0., 0., 1., 0., 0., 0., 0.], dtype=float32)"
          },
          "metadata": {}
        }
      ]
    },
    {
      "metadata": {
        "trusted": true
      },
      "cell_type": "code",
      "source": "from keras.models import Sequential\nfrom keras.layers import Dense,Activation\nfrom keras.optimizers import SGD,Adam",
      "execution_count": 11,
      "outputs": []
    },
    {
      "metadata": {
        "trusted": true
      },
      "cell_type": "code",
      "source": "model_2 = Sequential()\nmodel_2.add(Dense(50,input_dim=784))\nmodel_2.add(Activation('relu'))\nmodel_2.add(Dense(50))\nmodel_2.add(Activation('relu'))\nmodel_2.add(Activation('relu'))\nmodel_2.add(Dense(50))\nmodel_2.add(Dense(10))\nmodel_2.add(Activation('softmax'))\nmodel_2.compile(loss='mse',optimizer=Adam(lr=0.001,beta_1=0.9, beta_2=0.999, epsilon=None, decay=0.0, amsgrad=False),metrics=['accuracy'])",
      "execution_count": 54,
      "outputs": []
    },
    {
      "metadata": {
        "trusted": true
      },
      "cell_type": "code",
      "source": "model_2_20 = model_2.fit(x_train,y_train,\n                        batch_size = 75,\n                        epochs = 20,\n                        verbose = 1,\n                        validation_data = (x_test , y_test))",
      "execution_count": 55,
      "outputs": [
        {
          "output_type": "stream",
          "text": "Train on 60000 samples, validate on 10000 samples\nEpoch 1/50\n60000/60000 [==============================] - 7s 121us/step - loss: 0.0154 - acc: 0.8983 - val_loss: 0.0085 - val_acc: 0.9442\nEpoch 2/50\n60000/60000 [==============================] - 4s 68us/step - loss: 0.0074 - acc: 0.9515 - val_loss: 0.0066 - val_acc: 0.9568\nEpoch 3/50\n60000/60000 [==============================] - 4s 65us/step - loss: 0.0057 - acc: 0.9628 - val_loss: 0.0070 - val_acc: 0.9545\nEpoch 4/50\n60000/60000 [==============================] - 4s 63us/step - loss: 0.0049 - acc: 0.9684 - val_loss: 0.0057 - val_acc: 0.9632\nEpoch 5/50\n60000/60000 [==============================] - 4s 66us/step - loss: 0.0042 - acc: 0.9733 - val_loss: 0.0050 - val_acc: 0.9682\nEpoch 6/50\n60000/60000 [==============================] - 4s 72us/step - loss: 0.0039 - acc: 0.9757 - val_loss: 0.0052 - val_acc: 0.9669\nEpoch 7/50\n60000/60000 [==============================] - 5s 76us/step - loss: 0.0035 - acc: 0.9781 - val_loss: 0.0051 - val_acc: 0.9658\nEpoch 8/50\n60000/60000 [==============================] - 4s 72us/step - loss: 0.0033 - acc: 0.9798 - val_loss: 0.0052 - val_acc: 0.9681\nEpoch 9/50\n60000/60000 [==============================] - 4s 64us/step - loss: 0.0031 - acc: 0.9805 - val_loss: 0.0050 - val_acc: 0.9672\nEpoch 10/50\n60000/60000 [==============================] - 5s 81us/step - loss: 0.0028 - acc: 0.9825 - val_loss: 0.0046 - val_acc: 0.9711\nEpoch 11/50\n60000/60000 [==============================] - 5s 77us/step - loss: 0.0026 - acc: 0.9839 - val_loss: 0.0040 - val_acc: 0.9745\nEpoch 12/50\n60000/60000 [==============================] - 4s 64us/step - loss: 0.0024 - acc: 0.9855 - val_loss: 0.0041 - val_acc: 0.9743\nEpoch 13/50\n60000/60000 [==============================] - 4s 73us/step - loss: 0.0025 - acc: 0.9847 - val_loss: 0.0050 - val_acc: 0.9681\nEpoch 14/50\n60000/60000 [==============================] - 4s 61us/step - loss: 0.0023 - acc: 0.9860 - val_loss: 0.0044 - val_acc: 0.9722\nEpoch 15/50\n60000/60000 [==============================] - 5s 78us/step - loss: 0.0022 - acc: 0.9864 - val_loss: 0.0045 - val_acc: 0.9731\nEpoch 16/50\n60000/60000 [==============================] - 5s 88us/step - loss: 0.0021 - acc: 0.9872 - val_loss: 0.0045 - val_acc: 0.9727\nEpoch 17/50\n60000/60000 [==============================] - 6s 95us/step - loss: 0.0019 - acc: 0.9887 - val_loss: 0.0042 - val_acc: 0.9732\nEpoch 18/50\n60000/60000 [==============================] - 5s 79us/step - loss: 0.0020 - acc: 0.9879 - val_loss: 0.0046 - val_acc: 0.9725\nEpoch 19/50\n60000/60000 [==============================] - 6s 102us/step - loss: 0.0018 - acc: 0.9894 - val_loss: 0.0046 - val_acc: 0.9724\nEpoch 20/50\n60000/60000 [==============================] - 5s 83us/step - loss: 0.0019 - acc: 0.9885 - val_loss: 0.0046 - val_acc: 0.9719\nEpoch 21/50\n60000/60000 [==============================] - 5s 80us/step - loss: 0.0017 - acc: 0.9894 - val_loss: 0.0046 - val_acc: 0.9728\nEpoch 22/50\n60000/60000 [==============================] - 4s 66us/step - loss: 0.0017 - acc: 0.9899 - val_loss: 0.0041 - val_acc: 0.9750\nEpoch 23/50\n60000/60000 [==============================] - 5s 81us/step - loss: 0.0017 - acc: 0.9897 - val_loss: 0.0045 - val_acc: 0.9731\nEpoch 24/50\n60000/60000 [==============================] - 4s 63us/step - loss: 0.0017 - acc: 0.9903 - val_loss: 0.0049 - val_acc: 0.9715\nEpoch 25/50\n60000/60000 [==============================] - 4s 61us/step - loss: 0.0017 - acc: 0.9896 - val_loss: 0.0045 - val_acc: 0.9732\nEpoch 26/50\n60000/60000 [==============================] - 4s 63us/step - loss: 0.0016 - acc: 0.9906 - val_loss: 0.0043 - val_acc: 0.9750\nEpoch 27/50\n60000/60000 [==============================] - 4s 68us/step - loss: 0.0016 - acc: 0.9906 - val_loss: 0.0042 - val_acc: 0.9758\nEpoch 28/50\n60000/60000 [==============================] - 4s 61us/step - loss: 0.0015 - acc: 0.9912 - val_loss: 0.0045 - val_acc: 0.9734\nEpoch 29/50\n60000/60000 [==============================] - 4s 63us/step - loss: 0.0017 - acc: 0.9896 - val_loss: 0.0042 - val_acc: 0.9755\nEpoch 30/50\n60000/60000 [==============================] - 4s 63us/step - loss: 0.0014 - acc: 0.9918 - val_loss: 0.0044 - val_acc: 0.9740\nEpoch 31/50\n60000/60000 [==============================] - 5s 83us/step - loss: 0.0015 - acc: 0.9909 - val_loss: 0.0043 - val_acc: 0.9745\nEpoch 32/50\n60000/60000 [==============================] - 4s 69us/step - loss: 0.0014 - acc: 0.9918 - val_loss: 0.0043 - val_acc: 0.9756\nEpoch 33/50\n60000/60000 [==============================] - 4s 62us/step - loss: 0.0015 - acc: 0.9913 - val_loss: 0.0044 - val_acc: 0.9744\nEpoch 34/50\n60000/60000 [==============================] - 4s 66us/step - loss: 0.0016 - acc: 0.9909 - val_loss: 0.0045 - val_acc: 0.9734\nEpoch 35/50\n60000/60000 [==============================] - 4s 73us/step - loss: 0.0016 - acc: 0.9905 - val_loss: 0.0050 - val_acc: 0.9708\nEpoch 36/50\n60000/60000 [==============================] - 4s 63us/step - loss: 0.0014 - acc: 0.9923 - val_loss: 0.0044 - val_acc: 0.9750\nEpoch 37/50\n60000/60000 [==============================] - 4s 70us/step - loss: 0.0014 - acc: 0.9918 - val_loss: 0.0047 - val_acc: 0.9735\nEpoch 38/50\n60000/60000 [==============================] - 5s 79us/step - loss: 0.0014 - acc: 0.9920 - val_loss: 0.0044 - val_acc: 0.9747\nEpoch 39/50\n60000/60000 [==============================] - 4s 69us/step - loss: 0.0014 - acc: 0.9920 - val_loss: 0.0041 - val_acc: 0.9766\nEpoch 40/50\n60000/60000 [==============================] - 4s 60us/step - loss: 0.0013 - acc: 0.9927 - val_loss: 0.0044 - val_acc: 0.9748\nEpoch 41/50\n60000/60000 [==============================] - 4s 67us/step - loss: 0.0014 - acc: 0.9918 - val_loss: 0.0042 - val_acc: 0.9761\nEpoch 42/50\n60000/60000 [==============================] - 4s 67us/step - loss: 0.0013 - acc: 0.9925 - val_loss: 0.0047 - val_acc: 0.9735\nEpoch 43/50\n60000/60000 [==============================] - 4s 74us/step - loss: 0.0014 - acc: 0.9918 - val_loss: 0.0042 - val_acc: 0.9760\nEpoch 44/50\n60000/60000 [==============================] - 4s 65us/step - loss: 0.0013 - acc: 0.9928 - val_loss: 0.0049 - val_acc: 0.9722\nEpoch 45/50\n60000/60000 [==============================] - 4s 74us/step - loss: 0.0015 - acc: 0.9914 - val_loss: 0.0044 - val_acc: 0.9743\nEpoch 46/50\n60000/60000 [==============================] - 4s 63us/step - loss: 0.0014 - acc: 0.9922 - val_loss: 0.0050 - val_acc: 0.9719\nEpoch 47/50\n60000/60000 [==============================] - 4s 71us/step - loss: 0.0014 - acc: 0.9919 - val_loss: 0.0049 - val_acc: 0.9736\nEpoch 48/50\n60000/60000 [==============================] - 4s 61us/step - loss: 0.0014 - acc: 0.9921 - val_loss: 0.0044 - val_acc: 0.9754\nEpoch 49/50\n60000/60000 [==============================] - 4s 72us/step - loss: 0.0013 - acc: 0.9926 - val_loss: 0.0045 - val_acc: 0.9746\nEpoch 50/50\n60000/60000 [==============================] - 4s 69us/step - loss: 0.0014 - acc: 0.9920 - val_loss: 0.0050 - val_acc: 0.9718\n",
          "name": "stdout"
        }
      ]
    },
    {
      "metadata": {
        "trusted": true
      },
      "cell_type": "code",
      "source": "predict = model_2.predict_classes(x_test)\ndef test(測試編號):\n    plt.imshow(x_test[測試編號].reshape(28,28),cmap='Greys')\n    print('神經網路判斷為:',predict[測試編號],'正確答案為:',y_test[測試編號])",
      "execution_count": 64,
      "outputs": []
    },
    {
      "metadata": {
        "trusted": true
      },
      "cell_type": "code",
      "source": "from ipywidgets import interact_manual\ninteract_manual(test,測試編號=(0,9999))",
      "execution_count": 65,
      "outputs": [
        {
          "output_type": "display_data",
          "data": {
            "application/vnd.jupyter.widget-view+json": {
              "model_id": "dc8a4be2835241f9a774ecd28af4a09a",
              "version_minor": 0,
              "version_major": 2
            },
            "text/plain": "interactive(children=(IntSlider(value=4999, description='測試編號', max=9999), Button(description='Run Interact', …"
          },
          "metadata": {}
        },
        {
          "output_type": "execute_result",
          "execution_count": 65,
          "data": {
            "text/plain": "<function __main__.test(測試編號)>"
          },
          "metadata": {}
        }
      ]
    },
    {
      "metadata": {
        "trusted": true
      },
      "cell_type": "code",
      "source": "",
      "execution_count": null,
      "outputs": []
    }
  ],
  "metadata": {
    "kernelspec": {
      "name": "python36",
      "display_name": "Python 3.6",
      "language": "python"
    },
    "language_info": {
      "mimetype": "text/x-python",
      "nbconvert_exporter": "python",
      "name": "python",
      "pygments_lexer": "ipython3",
      "version": "3.6.6",
      "file_extension": ".py",
      "codemirror_mode": {
        "version": 3,
        "name": "ipython"
      }
    }
  },
  "nbformat": 4,
  "nbformat_minor": 1
}
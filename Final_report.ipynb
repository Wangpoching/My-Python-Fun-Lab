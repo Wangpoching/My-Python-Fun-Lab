{
  "cells": [
    {
      "metadata": {
        "trusted": true
      },
      "cell_type": "markdown",
      "source": "# 主題：天文照片辨認\n\n\n\n        \n\n\n            \n        \n    \n\n\n\n\n"
    },
    {
      "metadata": {},
      "cell_type": "markdown",
      "source": "## 組員\n+ 蘇冠庭 師大物理四\n\n+ 王博群 台大地理四"
    },
    {
      "metadata": {},
      "cell_type": "markdown",
      "source": "## 介紹\n有在玩天文攝影，也有在一些FB社團或網頁中欣賞別人的作品，常常會看到有人丟一張照片上來詢問是什麼天體。然而實際情況是除非那個天體是星雲或是極為特別，否則若是沒有附近天區資訊的話就算是老手也不能很快解答。所以我就想到如果能提供很多天體的照片給程式訓練的話，辨識能力說不定能比人眼辨識來得好。\n\ninput: 天文照片（畫面有時會平移、旋轉、縮放，甚至影像的對比不同）\n\noutput: 天體名稱\n\n通常會有辨認困難的會是星團，因為星雲或星系人們比較容易認得出來。 不過因為宇宙無窮無盡，可以先鎖定在比較有名的梅西爾天體中的星團照片進行訓練就好，甚至是改成星座辨認也不錯，星座一共 88 個，對一個人來說也是不好記完。"
    },
    {
      "metadata": {
        "trusted": true
      },
      "cell_type": "code",
      "source": "## 實作方法\n從 哈博官網、美國國家光學天文台、美國太空總署圖片庫、NASA搜尋 四個公開網站獲取資料\n鎖定在梅西爾天體的共29個球狀星團，其編號是：2 3 4 5 9 10 12 13 14 15 19 22 28 30 53 54 55 56 62 68 69 70 71 72 75 79 80 92 107。\n統一圖片的維度至100*100\n增加樣本數，把現有的圖片用Imagrgenerator做影像處理（旋轉、縮放等等）每種星團額外增加100張照片。\n用CNN進行辨識與訓練。",
      "execution_count": null,
      "outputs": []
    },
    {
      "metadata": {
        "trusted": true
      },
      "cell_type": "code",
      "source": "# %load classifier.py\n\"\"\"\nCreated on Sat Jun  8 11:39:20 2019\n\n@author: Peter Wang\n\"\"\"\nfrom matplotlib.image import imread\nfrom keras.models import Sequential  #用來啟動 NN\nfrom keras.layers import Conv2D  # Convolution Operation\nfrom keras.layers import MaxPooling2D # Pooling\nfrom keras.layers import Flatten\nfrom keras.layers import Dense # Fully Connected Networks\nfrom keras.preprocessing.image import ImageDataGenerator\nfrom keras.utils import np_utils\nimport os\nimport re\nimport numpy as np\nimport matplotlib.pyplot as plt\nfrom matplotlib.image import imread\n\n# 设置生成器参数\nPATH = 'Messier_data_jpg/'\nSAVE_PATH = 'Test/'\ndatagen = ImageDataGenerator(featurewise_center=True,\n                                   featurewise_std_normalization=True,\n                                   rotation_range=15,\n                                   zoom_range=0.2,\n                                   rescale= 1/255,\n                                   fill_mode='constant'\n                                   )\ngen_data = datagen.flow_from_directory(PATH, \n                                       batch_size=1, \n                                       shuffle=False, \n                                       save_to_dir=SAVE_PATH,\n                                       save_prefix='M107_', \n\t\t\t\t       target_size=(100, 100))\n# 生成100张图\nfor i in range(100):\n    gen_data.next() \n\n#Model\nmodel = Sequential()  \nmodel.add(Conv2D(32, (5, 5), strides = 3, input_shape = (100, 100, 3), activation = 'relu'))\nmodel.add(MaxPooling2D(pool_size = (2, 2)))\n\nmodel.add(Conv2D(64, (5, 5), activation = 'relu'))\nmodel.add(MaxPooling2D(pool_size = (2, 2)))\n\n# Third convolutional layer\nmodel.add(Conv2D(128, (3, 3), activation = 'relu'))\nmodel.add(MaxPooling2D(pool_size=(2, 2)))\n\nmodel.add(Flatten())\n\nmodel.add(Dense(output_dim = 28, activation = 'relu'))\nmodel.add(Dense(output_dim = 28, activation = 'softmax'))\n\nmodel.compile(optimizer = 'adam', loss = 'categorical_crossentropy', metrics = ['accuracy'])\nmodel.summary()\n\n#Training data\n###y_train\npath_train = os.listdir('Test')\nnames_list = []\nfor i in range(len(path_train)):\n    name = int(re.findall('[0-9]+',path_train[i])[0])\n    names_list.append(name)\nx = list(set(names_list))\ny_train = []\nfor i in range(len(names_list)):\n    for j in range(len(x)):\n        if names_list[i] == x[j]:\n            y_train.append(j)\ny_train = np.array(y_train)\ny_train = np_utils.to_categorical(y_train,28)\nnp.save('y_train',y_train)\n\n###x_train\nx_train = imread('Test/%s'%path_train[0])\nx_train = x_train.reshape(1,100,100,3)\nfor i in path_train:\n    image = imread('Test/%s'%i)\n    image = image.reshape(1,100,100,3)\n    x_train = np.concatenate((x_train,image),axis=0)\nx_train = np.delete(x_train,0,0)\nnp.save('x_train',x_train)\n\n###y_test\npath_test = os.listdir('Train')\ntest_names_list = []\nfor i in range(len(path_test)):\n    name = int(re.findall('[0-9]+',path_test[i])[0])\n    test_names_list.append(name)\nindex = 0\ny_test_names = []\nfor i in path_test:\n    image_path = os.listdir('Train/%s'%i)\n    y_test = list(np.repeat(test_names_list[index],len(image_path)))\n    y_test_names = y_test_names + y_test\n    index = index+1\ny_test = []\nfor i in range(len(y_test_names)):\n    for j in range(len(x)):\n        if y_test_names[i] == x[j]:\n            y_test.append(j)\ny_test = np.array(y_test)\ny_test = np_utils.to_categorical(y_test,28)\nnp.save('y_test',y_test)\n    \n###x_test\npath_x_test = os.listdir('Messier_data_resize')\nx_test = np.load('Messier_data_resize/%s'%path_x_test[0])\n\nfor i in path_x_test:\n    image = np.load('Messier_data_resize/%s'%i)\n    x_test = np.concatenate((x_test,image),axis=0)\nindex_2 = [0,1,2]\nx_test =np.delete(x_test,index_2,0)\nnp.save('x_test',x_test)\n\n###標準化\nx_train = x_train/255\nx_test = x_test/255\n\n###訓練\nmodel.fit(x_train,y_train,batch_size=100,epochs=100)\nmodel.save('messier_classifer_BC.h5')\n    \n    \n###load_model\nmodel.load_weights('messier_classifer_BC.h5')\n\n\n###validation\ndef gallery():\n    index = 1\n    path_x_test = os.listdir('Messier object/')\n    for i in path_x_test:\n        image_paths2 = os.listdir('Messier object/%s'%i)\n        for j in image_paths2:\n            image = imread('Messier object/%s/%s'%(i,j))\n            plt.subplot(10, 10 , index)\n            plt.imshow(image)\n            index = index +1\n    print('圖片編號由左至右,再由上至下,共0~91')\ndef validation(testing):\n    X = x_test[int(testing)]\n    result = x[int(model.predict_classes(X.reshape(1,100,100,3)))]\n    print(f'正確答案為M{y_test_names[int(testing)]}')\n    print(\"模型預測為M%d\"%result)\n\n\n###validation accuracy\nindex_3 = 0\nfor i in range(92):\n    X = x_test[int(i)]\n    result = x[int(model.predict_classes(X.reshape(1,100,100,3)))]\n    if y_test_names[int(i)] == result:\n        index_3 = index_3+1\nprint(index_3/92)\n\n\n\n\n\n        \n\n\n            \n        \n    \n\n\n\n\n",
      "execution_count": null,
      "outputs": []
    },
    {
      "metadata": {
        "trusted": true
      },
      "cell_type": "markdown",
      "source": "## 結果\nvalidation 的結果 accuracy 達到 91%\n但是因為Train的資料是Test資料擴充而來 ， 因此原本就會預測有很高的正確率\n如果有更多的野外拍攝照片可以更準確地進行validation"
    },
    {
      "metadata": {},
      "cell_type": "markdown",
      "source": "## 資料"
    },
    {
      "metadata": {
        "trusted": true
      },
      "cell_type": "code",
      "source": "Training圖資 : https://drive.google.com/open?id=1QBJ2YyORCGy4ifLw4CXiQFo5b_HjO9Rl \nTest圖資 : https://drive.google.com/open?id=1-V24ekPO4xtETw7Z7ijtjfvvY45qdV_a",
      "execution_count": null,
      "outputs": []
    }
  ],
  "metadata": {
    "kernelspec": {
      "name": "python36",
      "display_name": "Python 3.6",
      "language": "python"
    },
    "language_info": {
      "mimetype": "text/x-python",
      "nbconvert_exporter": "python",
      "name": "python",
      "pygments_lexer": "ipython3",
      "version": "3.6.6",
      "file_extension": ".py",
      "codemirror_mode": {
        "version": 3,
        "name": "ipython"
      }
    }
  },
  "nbformat": 4,
  "nbformat_minor": 2
}
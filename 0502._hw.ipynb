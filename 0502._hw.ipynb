{
  "cells": [
    {
      "metadata": {
        "trusted": true
      },
      "cell_type": "code",
      "source": "%env KERAS_BACKEND = tensorflow",
      "execution_count": 1,
      "outputs": [
        {
          "output_type": "stream",
          "text": "env: KERAS_BACKEND=tensorflow\n",
          "name": "stdout"
        }
      ]
    },
    {
      "metadata": {
        "trusted": true
      },
      "cell_type": "code",
      "source": "%matplotlib inline\nimport numpy as np\nimport pandas as pd\nimport matplotlib.pyplot as plt\n\nfrom ipywidgets import interact , IntSlider , Button",
      "execution_count": 3,
      "outputs": []
    },
    {
      "metadata": {},
      "cell_type": "markdown",
      "source": "#### 匯入一些神經網路會用到的東西"
    },
    {
      "metadata": {
        "trusted": true
      },
      "cell_type": "code",
      "source": "#Keras Functions\nfrom keras.models import Sequential\nfrom keras.layers import Dense , Activation\nfrom keras.optimizers import SGD\n\n#Keras Datasets\nfrom keras.datasets import mnist\n\n#Keras Utils\nfrom keras.utils import np_utils",
      "execution_count": 5,
      "outputs": []
    },
    {
      "metadata": {},
      "cell_type": "markdown",
      "source": "### 由 Keras 讀入 MNIST"
    },
    {
      "metadata": {
        "trusted": true
      },
      "cell_type": "code",
      "source": "(x_train0,y_train0) , (x_test0,y_test0) = mnist.load_data()",
      "execution_count": 12,
      "outputs": []
    },
    {
      "metadata": {
        "trusted": true
      },
      "cell_type": "code",
      "source": "print(\"共 %d 筆訓練資料 , 每筆有 %d x %d \"%x_train0.shape)\nprint(\"輸出訓練資料有 %d 筆  \"%y_train0.shape)",
      "execution_count": 17,
      "outputs": [
        {
          "output_type": "stream",
          "text": "共 60000 筆訓練資料 , 每筆有 28 x 28 \n輸出訓練資料有 60000 筆  \n",
          "name": "stdout"
        }
      ]
    },
    {
      "metadata": {},
      "cell_type": "markdown",
      "source": "### 將0~9分成是五的倍數與不是五的倍數"
    },
    {
      "metadata": {
        "trusted": true
      },
      "cell_type": "code",
      "source": "x_train = x_train0.reshape(60000, 784)\nx_test = x_test0.reshape(10000, 784)\nx_train -= x_train.min()\nx_train = x_train/x_train.max()\ny_train_eo = np.ones_like(y_train0)\ny_train_eo[(y_train0==5) | (y_train0==0)] = 0\n\ny_test_eo = np.ones_like(y_test0)\ny_test_eo[(y_test0==5) | (y_test0==0)] = 0\n\ny_train_eo = np_utils.to_categorical(y_train_eo,2)\ny_test_eo = np_utils.to_categorical(y_test_eo,2)",
      "execution_count": 54,
      "outputs": []
    },
    {
      "metadata": {},
      "cell_type": "markdown",
      "source": "### 看一下分布是不是大概5:1"
    },
    {
      "metadata": {
        "trusted": true
      },
      "cell_type": "code",
      "source": "plt.hist(y_test_eo)",
      "execution_count": 49,
      "outputs": [
        {
          "output_type": "execute_result",
          "execution_count": 49,
          "data": {
            "text/plain": "([array([8128.,    0.,    0.,    0.,    0.,    0.,    0.,    0.,    0.,\n         1872.]),\n  array([1872.,    0.,    0.,    0.,    0.,    0.,    0.,    0.,    0.,\n         8128.])],\n array([0. , 0.1, 0.2, 0.3, 0.4, 0.5, 0.6, 0.7, 0.8, 0.9, 1. ]),\n <a list of 2 Lists of Patches objects>)"
          },
          "metadata": {}
        },
        {
          "output_type": "display_data",
          "data": {
            "image/png": "[encoded data removed]",
            "text/plain": "<Figure size 432x288 with 1 Axes>"
          },
          "metadata": {
            "needs_background": "light"
          }
        }
      ]
    },
    {
      "metadata": {},
      "cell_type": "markdown",
      "source": "### 來開始寫Functional API\n首先先放進一些需要的東西"
    },
    {
      "metadata": {
        "trusted": true
      },
      "cell_type": "code",
      "source": "from keras.models import Model\nfrom keras.models import Input\nfrom keras.layers import concatenate, add",
      "execution_count": 60,
      "outputs": []
    },
    {
      "metadata": {},
      "cell_type": "markdown",
      "source": "### 架構是這樣子的 輸出其實只有兩維(是5的倍數的機率)"
    },
    {
      "metadata": {},
      "cell_type": "markdown",
      "source": "<img src=\"branch-and-merge.png\" alt=\"drawing\" style=\"width: 400px;\"/>"
    },
    {
      "metadata": {},
      "cell_type": "markdown",
      "source": "### 定義函數"
    },
    {
      "metadata": {
        "trusted": true
      },
      "cell_type": "code",
      "source": "x = Input(shape=[784,])\nf_1 = Dense(500,activation='sigmoid')\nf_2 = Dense(500,activation='sigmoid')\nf_3 = Dense(2,activation='softmax')\nf_4 = Dense(500,activation='relu')\nh_1 = f_1(x)\nh_2 = f_2(h_1)\nz = f_4(h_1)\n",
      "execution_count": 56,
      "outputs": []
    },
    {
      "metadata": {
        "trusted": true
      },
      "cell_type": "code",
      "source": "print(h_1)\nprint(h_2)\nprint(x)",
      "execution_count": 58,
      "outputs": [
        {
          "output_type": "stream",
          "text": "Tensor(\"dense_5/Sigmoid:0\", shape=(?, 500), dtype=float32)\nTensor(\"dense_6/Sigmoid:0\", shape=(?, 500), dtype=float32)\nTensor(\"input_2:0\", shape=(?, 784), dtype=float32)\n",
          "name": "stdout"
        }
      ]
    },
    {
      "metadata": {
        "trusted": true
      },
      "cell_type": "code",
      "source": "u = concatenate([h_2, z])\ny = f_3(u)",
      "execution_count": 61,
      "outputs": []
    },
    {
      "metadata": {
        "trusted": true
      },
      "cell_type": "code",
      "source": "print(u)\nprint(y)",
      "execution_count": 62,
      "outputs": [
        {
          "output_type": "stream",
          "text": "Tensor(\"concatenate_1/concat:0\", shape=(?, 1000), dtype=float32)\nTensor(\"dense_7/Softmax:0\", shape=(?, 2), dtype=float32)\n",
          "name": "stdout"
        }
      ]
    },
    {
      "metadata": {
        "trusted": true
      },
      "cell_type": "code",
      "source": "model = Model(x, y)\nmodel.summary()",
      "execution_count": 63,
      "outputs": [
        {
          "output_type": "stream",
          "text": "__________________________________________________________________________________________________\nLayer (type)                    Output Shape         Param #     Connected to                     \n==================================================================================================\ninput_2 (InputLayer)            (None, 784)          0                                            \n__________________________________________________________________________________________________\ndense_5 (Dense)                 (None, 500)          392500      input_2[0][0]                    \n__________________________________________________________________________________________________\ndense_6 (Dense)                 (None, 500)          250500      dense_5[0][0]                    \n__________________________________________________________________________________________________\ndense_8 (Dense)                 (None, 500)          250500      dense_5[0][0]                    \n__________________________________________________________________________________________________\nconcatenate_1 (Concatenate)     (None, 1000)         0           dense_6[0][0]                    \n                                                                 dense_8[0][0]                    \n__________________________________________________________________________________________________\ndense_7 (Dense)                 (None, 2)            2002        concatenate_1[0][0]              \n==================================================================================================\nTotal params: 895,502\nTrainable params: 895,502\nNon-trainable params: 0\n__________________________________________________________________________________________________\n",
          "name": "stdout"
        }
      ]
    },
    {
      "metadata": {
        "trusted": true
      },
      "cell_type": "code",
      "source": "model.compile(loss='mse', optimizer=SGD(lr=0.1), metrics=['accuracy'])",
      "execution_count": 64,
      "outputs": []
    },
    {
      "metadata": {
        "trusted": true
      },
      "cell_type": "code",
      "source": "model.fit(x_train, y_train_eo, batch_size=100, epochs=5)",
      "execution_count": 65,
      "outputs": [
        {
          "output_type": "stream",
          "text": "Epoch 1/5\n60000/60000 [==============================] - 14s 235us/step - loss: 0.1844 - acc: 0.8108\nEpoch 2/5\n60000/60000 [==============================] - 12s 193us/step - loss: 0.1538 - acc: 0.8360\nEpoch 3/5\n60000/60000 [==============================] - 12s 208us/step - loss: 0.0501 - acc: 0.9343\nEpoch 4/5\n60000/60000 [==============================] - 13s 214us/step - loss: 0.0401 - acc: 0.9475\nEpoch 5/5\n60000/60000 [==============================] - 13s 216us/step - loss: 0.0376 - acc: 0.9512\n",
          "name": "stdout"
        },
        {
          "output_type": "execute_result",
          "execution_count": 65,
          "data": {
            "text/plain": "<keras.callbacks.History at 0x7fec5610e5f8>"
          },
          "metadata": {}
        }
      ]
    },
    {
      "metadata": {
        "trusted": true
      },
      "cell_type": "code",
      "source": "predict = model.predict(x_test)\npredict = np.argmax(predict,axis=1)",
      "execution_count": 70,
      "outputs": []
    },
    {
      "metadata": {
        "trusted": true
      },
      "cell_type": "code",
      "source": "def test(測試編號):\n    plt.imshow(x_test[測試編號].reshape(28,28),cmap='Greys')\n    if predict[測試編號] == 1 :\n        print('神經網路判斷為:','是')\n    else :\n        print('神經網路判斷為:','不是')\n        \n        ",
      "execution_count": 80,
      "outputs": [
        {
          "output_type": "error",
          "ename": "SyntaxError",
          "evalue": "invalid syntax (<ipython-input-80-0cb9ce0ab114>, line 3)",
          "traceback": [
            "\u001b[0;36m  File \u001b[0;32m\"<ipython-input-80-0cb9ce0ab114>\"\u001b[0;36m, line \u001b[0;32m3\u001b[0m\n\u001b[0;31m    if predict[測試編號] = 1 :\u001b[0m\n\u001b[0m                     ^\u001b[0m\n\u001b[0;31mSyntaxError\u001b[0m\u001b[0;31m:\u001b[0m invalid syntax\n"
          ]
        }
      ]
    },
    {
      "metadata": {
        "trusted": true
      },
      "cell_type": "code",
      "source": "",
      "execution_count": 75,
      "outputs": [
        {
          "output_type": "execute_result",
          "execution_count": 75,
          "data": {
            "text/plain": "array([2, 1, 0, 4, 1, 4, 9, 5, 9, 0, 6, 9, 0, 1, 5, 9, 7, 3, 4],\n      dtype=uint8)"
          },
          "metadata": {}
        }
      ]
    },
    {
      "metadata": {
        "trusted": true
      },
      "cell_type": "code",
      "source": "",
      "execution_count": null,
      "outputs": []
    }
  ],
  "metadata": {
    "kernelspec": {
      "name": "python36",
      "display_name": "Python 3.6",
      "language": "python"
    },
    "language_info": {
      "mimetype": "text/x-python",
      "nbconvert_exporter": "python",
      "name": "python",
      "pygments_lexer": "ipython3",
      "version": "3.6.6",
      "file_extension": ".py",
      "codemirror_mode": {
        "version": 3,
        "name": "ipython"
      }
    }
  },
  "nbformat": 4,
  "nbformat_minor": 2
}
{
  "cells": [
    {
      "metadata": {
        "collapsed": true
      },
      "cell_type": "markdown",
      "source": "### Backend = tensorflow"
    },
    {
      "metadata": {
        "trusted": true
      },
      "cell_type": "code",
      "source": "%env KERAS_BACKEND = tensorflow",
      "execution_count": 3,
      "outputs": [
        {
          "output_type": "stream",
          "text": "env: KERAS_BACKEND=tensorflow\n",
          "name": "stdout"
        }
      ]
    },
    {
      "metadata": {},
      "cell_type": "markdown",
      "source": "### 匯入最基本套件"
    },
    {
      "metadata": {
        "trusted": true
      },
      "cell_type": "code",
      "source": "%matplotlib inline\nimport numpy as np\nimport matplotlib.pyplot as plt\n\nfrom ipywidgets import interact , FloatSlider",
      "execution_count": 2,
      "outputs": []
    },
    {
      "metadata": {},
      "cell_type": "markdown",
      "source": "### 神經網路需要的套件"
    },
    {
      "metadata": {
        "trusted": true
      },
      "cell_type": "code",
      "source": "# Keras functions\nfrom keras.models import Sequential , Model\nfrom keras.layers import Input , Lambda , concatenate\nfrom keras.layers import Dense\nfrom keras.optimizers import Adam , SGD\nfrom keras import metrics\n\n# Keras dataset\nfrom keras.datasets import mnist\n\n# Keras utilis function\nfrom keras.utils import np_utils\n\nfrom keras import backend as K\n",
      "execution_count": 4,
      "outputs": [
        {
          "output_type": "stream",
          "text": "Using TensorFlow backend.\n",
          "name": "stderr"
        }
      ]
    },
    {
      "metadata": {},
      "cell_type": "markdown",
      "source": "### 讀入數據"
    },
    {
      "metadata": {
        "trusted": true
      },
      "cell_type": "code",
      "source": "(x_train0 , y_train0) , (x_test0 , y_test0) = mnist.load_data()",
      "execution_count": 5,
      "outputs": [
        {
          "output_type": "stream",
          "text": "Downloading data from https://s3.amazonaws.com/img-datasets/mnist.npz\n11493376/11490434 [==============================] - 2s 0us/step\n",
          "name": "stdout"
        }
      ]
    },
    {
      "metadata": {
        "trusted": true
      },
      "cell_type": "code",
      "source": "x_train = x_train0.reshape(60000,-1)\nx_test = x_test0.reshape(10000,-1)\n\nx_train -= x_train.min()\nx_train = x_train/x_train.max()\nx_test -= x_test.min()\nx_test = x_test/x_test.max()",
      "execution_count": 7,
      "outputs": []
    },
    {
      "metadata": {},
      "cell_type": "markdown",
      "source": "### VAE的建立"
    },
    {
      "metadata": {
        "trusted": true
      },
      "cell_type": "code",
      "source": "enc_1 = Dense(100, activation = 'sigmoid')\n\nenc_mean = Dense(2)\nenc_log_var = Dense(2)\n\ndec_2 = Dense(100, activation = 'sigmoid')\ndec_1 = Dense(784, activation = 'sigmoid')",
      "execution_count": 10,
      "outputs": []
    },
    {
      "metadata": {
        "trusted": true
      },
      "cell_type": "code",
      "source": "x = Input(shape=(784,))\nenc_x = enc_1(x)\n\nz_mean = enc_mean(enc_x)\nz_log_var = enc_log_var(enc_x)",
      "execution_count": 12,
      "outputs": []
    },
    {
      "metadata": {},
      "cell_type": "markdown",
      "source": "### 建立sampling函數"
    },
    {
      "metadata": {
        "trusted": true
      },
      "cell_type": "code",
      "source": "def sampling(args):\n    z_mean , z_log_var = args\n    epsilon = K.random_normal(shape=(2,),mean=0. , stddev=1)\n    return z_mean + K.exp(z_log_var / 2) * epsilon",
      "execution_count": 13,
      "outputs": []
    },
    {
      "metadata": {
        "trusted": true
      },
      "cell_type": "code",
      "source": "z = Lambda(sampling, output_shape=(2,))([z_mean, z_log_var])",
      "execution_count": 14,
      "outputs": []
    },
    {
      "metadata": {
        "trusted": true
      },
      "cell_type": "code",
      "source": "dec_x = dec_2(z)\nx_hat = dec_1(dec_x)",
      "execution_count": 16,
      "outputs": []
    },
    {
      "metadata": {
        "trusted": true
      },
      "cell_type": "code",
      "source": "VAE = Model(x, x_hat)",
      "execution_count": 17,
      "outputs": []
    },
    {
      "metadata": {
        "trusted": true
      },
      "cell_type": "code",
      "source": "VAE.summary()",
      "execution_count": 18,
      "outputs": [
        {
          "output_type": "stream",
          "text": "__________________________________________________________________________________________________\nLayer (type)                    Output Shape         Param #     Connected to                     \n==================================================================================================\ninput_1 (InputLayer)            (None, 784)          0                                            \n__________________________________________________________________________________________________\ndense_5 (Dense)                 (None, 100)          78500       input_1[0][0]                    \n__________________________________________________________________________________________________\ndense_6 (Dense)                 (None, 2)            202         dense_5[0][0]                    \n__________________________________________________________________________________________________\ndense_7 (Dense)                 (None, 2)            202         dense_5[0][0]                    \n__________________________________________________________________________________________________\nlambda_1 (Lambda)               (None, 2)            0           dense_6[0][0]                    \n                                                                 dense_7[0][0]                    \n__________________________________________________________________________________________________\ndense_8 (Dense)                 (None, 100)          300         lambda_1[0][0]                   \n__________________________________________________________________________________________________\ndense_9 (Dense)                 (None, 784)          79184       dense_8[1][0]                    \n==================================================================================================\nTotal params: 158,388\nTrainable params: 158,388\nNon-trainable params: 0\n__________________________________________________________________________________________________\n",
          "name": "stdout"
        }
      ]
    },
    {
      "metadata": {
        "trusted": true
      },
      "cell_type": "code",
      "source": "def vae_loss(x, x_recon):  \n    recovery_loss = 784 * metrics.binary_crossentropy(x, x_recon)\n    kl_loss = - 0.5 * K.sum(1 + z_log_var - K.square(z_mean) - K.exp(z_log_var), axis=-1)\n    return recovery_loss + kl_loss",
      "execution_count": 19,
      "outputs": []
    },
    {
      "metadata": {},
      "cell_type": "markdown",
      "source": "### 訓練"
    },
    {
      "metadata": {
        "trusted": true
      },
      "cell_type": "code",
      "source": "VAE.compile(loss=vae_loss, optimizer=Adam())",
      "execution_count": 20,
      "outputs": []
    },
    {
      "metadata": {
        "trusted": true
      },
      "cell_type": "code",
      "source": "VAE.load_weights('VAE_handwriting_model_weights.h5')",
      "execution_count": 22,
      "outputs": []
    },
    {
      "metadata": {},
      "cell_type": "markdown",
      "source": "### 子模型\n"
    },
    {
      "metadata": {
        "trusted": true
      },
      "cell_type": "code",
      "source": "VAE_Encoder = Model(x, z_mean)\nVAE_Encoder.summary()",
      "execution_count": 25,
      "outputs": [
        {
          "output_type": "stream",
          "text": "_________________________________________________________________\nLayer (type)                 Output Shape              Param #   \n=================================================================\ninput_1 (InputLayer)         (None, 784)               0         \n_________________________________________________________________\ndense_5 (Dense)              (None, 100)               78500     \n_________________________________________________________________\ndense_6 (Dense)              (None, 2)                 202       \n=================================================================\nTotal params: 78,702\nTrainable params: 78,702\nNon-trainable params: 0\n_________________________________________________________________\n",
          "name": "stdout"
        }
      ]
    },
    {
      "metadata": {
        "trusted": true
      },
      "cell_type": "code",
      "source": "h_input = Input(shape=(2,))\nVAE_Decoder = Model(h_input, dec_1(dec_2(h_input)))\nVAE_Decoder.summary()",
      "execution_count": 27,
      "outputs": [
        {
          "output_type": "stream",
          "text": "_________________________________________________________________\nLayer (type)                 Output Shape              Param #   \n=================================================================\ninput_2 (InputLayer)         (None, 2)                 0         \n_________________________________________________________________\ndense_8 (Dense)              (None, 100)               300       \n_________________________________________________________________\ndense_9 (Dense)              (None, 784)               79184     \n=================================================================\nTotal params: 79,484\nTrainable params: 79,484\nNon-trainable params: 0\n_________________________________________________________________\n",
          "name": "stdout"
        }
      ]
    },
    {
      "metadata": {
        "trusted": true
      },
      "cell_type": "code",
      "source": "def inBetween(t):\n    data_0 = x_train0[idx_1]\n    data_1 = x_train0[idx_2]\n    data_t = (1-t)*x_train0[idx_1] + t*x_train0[idx_2]\n\n    mu_0 = VAE_Encoder.predict(x_train[idx_1:idx_1+1]).squeeze()\n    mu_1 = VAE_Encoder.predict(x_train[idx_2:idx_2+1]).squeeze()\n    mu_t = (1-t)*mu_0 + t*mu_1\n\n    plt.figure(figsize=(10, 5))\n    ax1 = plt.subplot(2, 1, 2)\n    ax1.scatter(mu_0[0], mu_0[1])\n    ax1.scatter(mu_1[0], mu_1[1])\n    ax1.scatter(mu_t[0], mu_t[1])\n    X = [mu_0[0],mu_1[0],mu_t[0]]\n    Y = [mu_0[1],mu_1[1],mu_t[1]]\n    ax1.plot(X, Y)\n    n = ['(%d,%d) '% (mu_0[0], mu_0[1]),'(%d,%d) '% (mu_1[0], mu_1[1]),'(%d,%d) '% (mu_t[0], mu_t[1])]\n    for i, txt in enumerate(n):\n        ax1.annotate(txt, (X[i], Y[i]))\n\n    ax2 = plt.subplot(2, 3, 1)\n    ax2.imshow(data_0, cmap='Greys')\n\n    ax3 = plt.subplot(2, 3, 2)\n    ax3.imshow(data_t, cmap='Greys')\n\n    ax4 = plt.subplot(2, 3, 3)\n    ax4.imshow(data_1, cmap='Greys')",
      "execution_count": 63,
      "outputs": []
    },
    {
      "metadata": {
        "trusted": true
      },
      "cell_type": "code",
      "source": "idx_1, idx_2 = np.random.randint(x_test.shape[0], size=2)\ndata_0 = x_train0[idx_1]\ndata_1 = x_train0[idx_2]",
      "execution_count": 64,
      "outputs": []
    },
    {
      "metadata": {
        "trusted": true
      },
      "cell_type": "code",
      "source": "interact(inBetween, t=FloatSlider(value=0.5, \n                                  min=0, \n                                  max=1.0,\n                                  step=0.02,))",
      "execution_count": 65,
      "outputs": [
        {
          "output_type": "display_data",
          "data": {
            "application/vnd.jupyter.widget-view+json": {
              "model_id": "60e6bb9a8deb42aa891c0e7046ddc056",
              "version_minor": 0,
              "version_major": 2
            },
            "text/plain": "interactive(children=(FloatSlider(value=0.5, description='t', max=1.0, step=0.02), Output()), _dom_classes=('w…"
          },
          "metadata": {}
        },
        {
          "output_type": "execute_result",
          "execution_count": 65,
          "data": {
            "text/plain": "<function __main__.inBetween(t)>"
          },
          "metadata": {}
        }
      ]
    },
    {
      "metadata": {
        "trusted": true
      },
      "cell_type": "code",
      "source": "",
      "execution_count": null,
      "outputs": []
    }
  ],
  "metadata": {
    "kernelspec": {
      "name": "python36",
      "display_name": "Python 3.6",
      "language": "python"
    },
    "language_info": {
      "mimetype": "text/x-python",
      "nbconvert_exporter": "python",
      "name": "python",
      "pygments_lexer": "ipython3",
      "version": "3.6.6",
      "file_extension": ".py",
      "codemirror_mode": {
        "version": 3,
        "name": "ipython"
      }
    }
  },
  "nbformat": 4,
  "nbformat_minor": 2
}
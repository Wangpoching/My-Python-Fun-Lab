{
  "cells": [
    {
      "metadata": {
        "trusted": true
      },
      "cell_type": "code",
      "source": "import requests\nimport xml.etree.cElementTree as ET\nfrom bs4 import BeautifulSoup \nimport numpy as np\nimport pandas as pd\nurl = 'https://kfc.2dim.space/'\nrequest = requests.get(url)\nrequest.encoding ='utf8'\nre = BeautifulSoup(request.text,'lxml')\ntree = ET.ElementTree(re)\nparent = re.find(\"div\", {\"id\": \"parent\"})\n### 價錢\nprice = parent.findAll(\"div\",{\"class\": \"nmb\"})\nimport re\np1 = list()\nfor i in price:\n    p1.append(i.get_text())\np2 = list()\nfor i in p1 :\n    if len(re.findall('.{3}元',i)) > 0 :\n        p2.append(re.findall('([0-9]+)元',i))\n    else :\n        p2.append(re.findall('([0-9]+)元',i))\n### 優惠代碼\nnum = parent.findAll(\"b\")\nnum1 = list()\nfor i in num:\n    num1.append(i.get_text())\n\n### 日期\ndate = parent.findAll(\"small\")\ndate1 = list()\nfor i in date:\n    date1.append(i.get_text())\n\nindex = list()\ncomb = parent.findAll(\"div\",{\"class\": \"comb\"})\nfor i in comb :\n    index.append(i.find(\"b\").get_text())\nindex2 = list()\nfor i in num1:\n    if i in index:\n        index2.append(False)\n    else :\n        index2.append(True)\nnum1 = np.array(num1)\nnum1 = num1[index2]\n\n### 食物\nfood = parent.findAll(\"div\",{\"class\": \"box\"})\nfood1 = dict()\ndot = 0 \nfor i in food:\n    food1[dot] = re.findall('折([^ ]+)',i.get_text() )\n    dot = dot+1\nfood2 = dict()\ndot = 0\nfor i in range(len(food1)):\n    if index2[i] == True :\n        food2[dot] = food1[i][0].split('+')\n        dot = dot+1\n\n\ndate1 = np.array(date1)\ndate1 = date1[index2]\np2 = np.array(p2)\np2 = p2[index2]\n\n###轉成pd\nprice = pd.DataFrame(p2)\nprice.columns = [\"價錢\"]\nnumber = pd.DataFrame(num1)\nnumber.columns = [\"優惠代碼\"]\ndue = pd.DataFrame(date1)\ndue.columns = [\"期限\"]\nfood = pd.Series(food2)\nfood = pd.DataFrame(food)\nfood.columns = [\"品項\"]\nData = pd.concat([number,price,due,food],axis=1)\n\n###補 Gap\nData.loc[87,\"期限\"] = '2019/05/13'\nData.loc[105,\"期限\"] = '2019/05/16'\nData.loc[131,\"期限\"] = '2019/05/31'\nData = Data.drop([131])\n\n###設計函數\ndef disp_menu():\n    print(\"肯德基優惠選擇\")\n    print(\"=============\")\n    print(\"1.由價錢尋找\")\n    print(\"2.由餐點尋找\")\n    print(\"3.由到期日期尋找\")\n    print(\"0.返回\")\n    print(\"==============\")\ndef money():\n    x = input(\"輸入你有多少錢\")\n    x = float(x)\n    print(Data[Data[\"價錢\"].astype('float') <= x])\ndef food():\n    print(\"1.炸雞\")\n    print(\"2.蛋塔\")\n    print(\"3.薯條\")\n    print(\"4.漢堡\")\n    print(\"5.雞米花\")\n    print(\"6.雞塊\")\n    print(\"7.瓜球\")\n    answer = list()\n    while True:\n        x = input(\"請選擇你要吃的食物代碼;不再輸入請按0:\")\n        if x != '0':\n            answer.append(int(x))\n        else :\n            break\n    result = dict()\n    index1 = 0\n    index1_1 = list()\n    if 1 in answer :\n        for i in range(len(Data['品項'])):\n            index1 = 0\n            for j in range(len(Data['品項'][i])):\n                if \"炸雞\" in Data['品項'][i][j]:\n                    index1 = index1 + 1\n            if index1  > 0 :\n                index1_1.append(i)\n        result['1'] = set(index1_1)\n    index2 = 0\n    index2_1 = list()\n    if 2 in answer :\n        for i in range(len(Data['品項'])):\n            index2 = 0\n            for j in range(len(Data['品項'][i])):\n                if (\"蛋塔\" or \"蛋達\") in Data['品項'][i][j]:\n                    index2 = index2 + 1\n            if index2  > 0 :\n                index2_1.append(i)\n        result['2'] = set(index2_1)\n    index3 = 0\n    index3_1 = list()\n    if 3 in answer :\n        for i in range(len(Data['品項'])):\n            index3 = 0\n            for j in range(len(Data['品項'][i])):\n                if \"薯\" in Data['品項'][i][j]:\n                    index3 = index3 + 1\n            if index3  > 0 :\n                index3_1.append(i)\n        result['3'] = set(index3_1)\n    index4 = 0\n    index4_1 = list()\n    if 4 in answer :\n        for i in range(len(Data['品項'])):\n            index4 = 0\n            for j in range(len(Data['品項'][i])):\n                if \"堡\" in Data['品項'][i][j]:\n                    index4 = index4 + 1\n            if index4  > 0 :\n                index4_1.append(i)\n        result['4'] = set(index4_1)\n    index5 = 0\n    index5_1 = list()\n    if 5 in answer :\n        for i in range(len(Data['品項'])):\n            index5 = 0\n            for j in range(len(Data['品項'][i])):\n                if \"雞米花\" in Data['品項'][i][j]:\n                    index5 = index5 + 1\n            if index5  > 0 :\n                index5_1.append(i)\n        result['5'] = set(index5_1)\n    index6 = 0\n    index6_1 = list()\n    if 6 in answer :\n        for i in range(len(Data['品項'])):\n            index6 = 0\n            for j in range(len(Data['品項'][i])):\n                if \"雞塊\" in Data['品項'][i][j]:\n                    index6 = set(index6 + 1)\n            if index6  > 0 :\n                index6_1.append(i)\n        result['6'] = index6_1\n    index7 = 0\n    index7_1 = list()\n    if 7 in answer :\n        for i in range(len(Data['品項'])):\n            index7 = 0\n            for j in range(len(Data['品項'][i])):\n                if \"瓜球\" in Data['品項'][i][j]:\n                    index7 = index7 + 1\n            if index7  > 0 :\n                index7_1.append(i)\n        result[7] = set(index7_1)\n    check = list()\n    for i in range(1,8):\n        if i in answer:\n            check.append(i)\n    blank = set(list(range(131)))\n    for i in result :\n        blank = blank & result[i]\n    print(Data.loc[list(blank)])\ndef date():\n    print('功能尚未開放')\n        \n        \n        \n        \n\n    \n    \n    \n    \n    \n    \n                \n            \n                \n                \n                \n            \n            \n    \n        \n        \n\n\n\n\n\n\n\n\n\n    \n\n\n\n    \n    \n\n\n\n    \n    \n    \n",
      "execution_count": 1,
      "outputs": []
    },
    {
      "metadata": {
        "trusted": true
      },
      "cell_type": "code",
      "source": "while True:\n    disp_menu()\n    choice = int(input(\"輸入您要的功能代碼\"))\n    if choice == 0:\n        break\n    if choice == 1:\n        money()\n    elif choice == 2:\n        food()\n    elif choice == 3:\n        date()\n    else:\n        break\n        ",
      "execution_count": 2,
      "outputs": [
        {
          "output_type": "stream",
          "text": "肯德基優惠選擇\n=============\n1.由價錢尋找\n2.由餐點尋找\n3.由到期日期尋找\n0.返回\n==============\n輸入您要的功能代碼2\n1.炸雞\n2.蛋塔\n3.薯條\n4.漢堡\n5.雞米花\n6.雞塊\n7.瓜球\n請選擇你要吃的食物代碼;不再輸入請按0:2\n請選擇你要吃的食物代碼;不再輸入請按0:4\n請選擇你要吃的食物代碼;不再輸入請按0:0\n      優惠代碼   價錢          期限                                                 品項\n130  50137  709  2019/05/31               [炸雞*8, 咔啦雞腿堡*3, 蛋塔*6, 中薯*3, 1.25L可樂]\n11   19164  100  2019/06/30                               [紐奧良烤雞堡, 小薯, 蛋塔, 中飲]\n20   19038  108   2019/5/31                              [經典脆雞堡, 大雞米花, 蛋塔, 小飲]\n23   18412  109  2019/3/31+                               [咔啦雞腿堡, 雙瓜球, 蛋塔, 小飲]\n24   18428  109  2019/3/31+                             [經典脆雞堡, 脆腿條*2, 蛋塔, 小飲]\n28   18303  111  2019/3/10+                             [紐奧良烤雞堡, 蛋塔, 雞塊*4, 小飲]\n29   18340  111  2019/3/31+                              [咔啦雞腿堡, 大雞米花, 蛋塔, 小飲]\n30   18450  111   2019/4/30                              [咔啦雞腿堡, 大雞米花, 蛋塔, 小飲]\n31   19062  111   2019/4/30                              [咔啦雞腿堡, 蛋塔*2, 小薯, 小飲]\n32   18455  112   2019/5/31                              [咔啦雞腿堡, 雞塊*4, 蛋塔, 小飲]\n33   19159  113  2019/06/30                          [經典脆雞堡, 雞塊*3, 小薯, 蛋塔, 小飲]\n34   18392  115  2019/3/31+                              [紐奧良烤雞堡, 蛋塔, 雙瓜球, 小飲]\n35   18438  115   2019/4/7+                              [咔啦雞腿堡, 大雞米花, 蛋塔, 中飲]\n36   19014  115   2019/5/31                                  [脆雞堡, 炸雞, 蛋塔, 小飲]\n41   19080  116   2019/6/30                             [紐奧良烤雞堡, 大雞米花, 蛋塔, 小飲]\n45   19059  118  2019/05/31                          [咔啦雞腿堡, 雞塊*3, 小薯, 蛋塔, 小飲]\n51   19050  120  2019/3/31+                          [經典脆雞堡, 大雞米花, 小薯, 蛋塔, 小飲]\n55   19052  125   2019/5/12                         [紐奧良烤雞堡, 雞塊*3, 小薯, 蛋塔, 小飲]\n57   19074  129  2019/06/30                          [經典脆雞堡, 大雞米花, 玉米, 蛋塔, 小飲]\n60     悠遊1  129  2019/12/31                          [咔啦雞腿堡, 小雞米花, 小薯, 蛋塔, 中飲]\n62   18454  130   2019/5/31                            [經典脆雞堡, 炸雞, 小薯, 蛋塔, 小飲]\n82      套餐  175      XL餐無期限                    [咔啦雞腿堡, 咔啦脆雞中辣, 原味蛋塔, 脆薯中, 可樂中]\n83      套餐  175      XL餐無期限                  [紐奧良烤雞腿堡, 咔啦脆雞中辣, 原味蛋塔, 脆薯中, 可樂中]\n89      套餐  179      XL餐無期限                [花生培根咔啦雞腿堡, 咔啦脆雞中辣, 脆薯中, 原味蛋塔, 可樂中]\n90   19071  199  2019/3/31+                    [炸雞*2, 經典脆雞堡, 小雞米花, 蛋塔*2, 中飲*2]\n96   19066  214  2019/3/31+              [經典脆雞堡, 咔啦脆雞*2, 雞塊*3, 小薯, 蛋塔*2, 中飲*2]\n100  19030  228  2019/12/31               [炸雞*2, 紐澳良烤雞堡, 4塊雞塊, 小薯, 蛋塔*2, 小飲*2]\n105  19106  250  2019/05/16   [炸雞, 經典脆雞堡, 小雞米花, 小薯, 雞塊*3, 小薯, 雙瓜球, 蛋塔*2, 中飲*2]\n106  19121  250   2019/6/30  [咔啦雞腿堡, 莎莎霸王捲, 小雞米花, 小薯, 雞塊*3, 小薯, 雙瓜球, 蛋塔*2, ...\n107  19173  252  2019/06/30          [炸雞*2, 咔啦雞腿堡, 小薯, 大雞米花, 雞塊*4, 蛋塔*2, 小飲*2]\n108  19033  259   2019/5/31          [炸雞*2, 經典脆雞堡, 雞塊*4, 大雞米花, 小薯, 蛋塔*3, 小飲*2]\n110  19034  260   2019/5/31          [炸雞*2, 經典脆雞堡, 雞塊*4, 雞米花小, 中薯, 蛋塔*3, 小飲*2]\n111  19035  268   2019/7/31                  [炸雞*2, 經典脆雞堡, 雞米花分享盒, 蛋塔*2, 小飲*2]\n118  18440  360   2019/5/31                        [炸雞*5, 經典脆雞堡*2, 蛋塔*2, 小飲*3]\n127  50134  639  2019/05/13                    [炸雞*6, 咔啦雞腿堡, 蛋塔*6, 中薯*3, 瓶裝可樂]\n肯德基優惠選擇\n=============\n1.由價錢尋找\n2.由餐點尋找\n3.由到期日期尋找\n0.返回\n==============\n輸入您要的功能代碼2\n1.炸雞\n2.蛋塔\n3.薯條\n4.漢堡\n5.雞米花\n6.雞塊\n7.瓜球\n請選擇你要吃的食物代碼;不再輸入請按0:1\n請選擇你要吃的食物代碼;不再輸入請按0:2\n請選擇你要吃的食物代碼;不再輸入請按0:3\n請選擇你要吃的食物代碼;不再輸入請按0:4\n請選擇你要吃的食物代碼;不再輸入請按0:0\n      優惠代碼   價錢          期限                                                品項\n130  50137  709  2019/05/31              [炸雞*8, 咔啦雞腿堡*3, 蛋塔*6, 中薯*3, 1.25L可樂]\n100  19030  228  2019/12/31              [炸雞*2, 紐澳良烤雞堡, 4塊雞塊, 小薯, 蛋塔*2, 小飲*2]\n105  19106  250  2019/05/16  [炸雞, 經典脆雞堡, 小雞米花, 小薯, 雞塊*3, 小薯, 雙瓜球, 蛋塔*2, 中飲*2]\n107  19173  252  2019/06/30         [炸雞*2, 咔啦雞腿堡, 小薯, 大雞米花, 雞塊*4, 蛋塔*2, 小飲*2]\n108  19033  259   2019/5/31         [炸雞*2, 經典脆雞堡, 雞塊*4, 大雞米花, 小薯, 蛋塔*3, 小飲*2]\n110  19034  260   2019/5/31         [炸雞*2, 經典脆雞堡, 雞塊*4, 雞米花小, 中薯, 蛋塔*3, 小飲*2]\n62   18454  130   2019/5/31                           [經典脆雞堡, 炸雞, 小薯, 蛋塔, 小飲]\n127  50134  639  2019/05/13                   [炸雞*6, 咔啦雞腿堡, 蛋塔*6, 中薯*3, 瓶裝可樂]\n肯德基優惠選擇\n=============\n1.由價錢尋找\n2.由餐點尋找\n3.由到期日期尋找\n0.返回\n==============\n輸入您要的功能代碼0\n",
          "name": "stdout"
        }
      ]
    },
    {
      "metadata": {
        "trusted": true
      },
      "cell_type": "code",
      "source": "",
      "execution_count": null,
      "outputs": []
    }
  ],
  "metadata": {
    "kernelspec": {
      "name": "python36",
      "display_name": "Python 3.6",
      "language": "python"
    },
    "language_info": {
      "mimetype": "text/x-python",
      "nbconvert_exporter": "python",
      "name": "python",
      "pygments_lexer": "ipython3",
      "version": "3.6.6",
      "file_extension": ".py",
      "codemirror_mode": {
        "version": 3,
        "name": "ipython"
      }
    }
  },
  "nbformat": 4,
  "nbformat_minor": 2
}
{
  "cells": [
    {
      "metadata": {
        "trusted": true
      },
      "cell_type": "code",
      "source": "%matplotlib inline\nimport matplotlib.pyplot as plt\nimport numpy as np\nimport pandas as pd",
      "execution_count": 2,
      "outputs": []
    },
    {
      "metadata": {
        "trusted": true
      },
      "cell_type": "code",
      "source": "data = pd.read_csv('https://ckhung.github.io/a/m/18/referendum.csv')",
      "execution_count": 3,
      "outputs": []
    },
    {
      "metadata": {
        "trusted": true
      },
      "cell_type": "code",
      "source": "data.head()",
      "execution_count": 4,
      "outputs": [
        {
          "output_type": "execute_result",
          "execution_count": 4,
          "data": {
            "text/html": "<div>\n<style scoped>\n    .dataframe tbody tr th:only-of-type {\n        vertical-align: middle;\n    }\n\n    .dataframe tbody tr th {\n        vertical-align: top;\n    }\n\n    .dataframe thead th {\n        text-align: right;\n    }\n</style>\n<table border=\"1\" class=\"dataframe\">\n  <thead>\n    <tr style=\"text-align: right;\">\n      <th></th>\n      <th>案件</th>\n      <th>縣市</th>\n      <th>鄉鎮市區</th>\n      <th>同意票數</th>\n      <th>不同意票數</th>\n      <th>有效票數</th>\n      <th>無效票數</th>\n      <th>投票數</th>\n      <th>投票權人數</th>\n    </tr>\n  </thead>\n  <tbody>\n    <tr>\n      <th>0</th>\n      <td>c07</td>\n      <td>全國</td>\n      <td>NaN</td>\n      <td>7955753</td>\n      <td>2109157</td>\n      <td>10064910</td>\n      <td>715140</td>\n      <td>10780050</td>\n      <td>19757067</td>\n    </tr>\n    <tr>\n      <th>1</th>\n      <td>c07</td>\n      <td>南投縣</td>\n      <td>NaN</td>\n      <td>187162</td>\n      <td>41641</td>\n      <td>228803</td>\n      <td>15881</td>\n      <td>244684</td>\n      <td>427089</td>\n    </tr>\n    <tr>\n      <th>2</th>\n      <td>c07</td>\n      <td>南投縣</td>\n      <td>中寮鄉</td>\n      <td>5701</td>\n      <td>1272</td>\n      <td>6973</td>\n      <td>633</td>\n      <td>7606</td>\n      <td>13181</td>\n    </tr>\n    <tr>\n      <th>3</th>\n      <td>c07</td>\n      <td>南投縣</td>\n      <td>仁愛鄉</td>\n      <td>5087</td>\n      <td>1090</td>\n      <td>6177</td>\n      <td>467</td>\n      <td>6644</td>\n      <td>12589</td>\n    </tr>\n    <tr>\n      <th>4</th>\n      <td>c07</td>\n      <td>南投縣</td>\n      <td>信義鄉</td>\n      <td>5246</td>\n      <td>1259</td>\n      <td>6505</td>\n      <td>961</td>\n      <td>7466</td>\n      <td>13299</td>\n    </tr>\n  </tbody>\n</table>\n</div>",
            "text/plain": "    案件   縣市 鄉鎮市區     同意票數    不同意票數      有效票數    無效票數       投票數     投票權人數\n0  c07   全國  NaN  7955753  2109157  10064910  715140  10780050  19757067\n1  c07  南投縣  NaN   187162    41641    228803   15881    244684    427089\n2  c07  南投縣  中寮鄉     5701     1272      6973     633      7606     13181\n3  c07  南投縣  仁愛鄉     5087     1090      6177     467      6644     12589\n4  c07  南投縣  信義鄉     5246     1259      6505     961      7466     13299"
          },
          "metadata": {}
        }
      ]
    },
    {
      "metadata": {
        "trusted": true
      },
      "cell_type": "code",
      "source": "data.tail()",
      "execution_count": 5,
      "outputs": [
        {
          "output_type": "execute_result",
          "execution_count": 5,
          "data": {
            "text/html": "<div>\n<style scoped>\n    .dataframe tbody tr th:only-of-type {\n        vertical-align: middle;\n    }\n\n    .dataframe tbody tr th {\n        vertical-align: top;\n    }\n\n    .dataframe thead th {\n        text-align: right;\n    }\n</style>\n<table border=\"1\" class=\"dataframe\">\n  <thead>\n    <tr style=\"text-align: right;\">\n      <th></th>\n      <th>案件</th>\n      <th>縣市</th>\n      <th>鄉鎮市區</th>\n      <th>同意票數</th>\n      <th>不同意票數</th>\n      <th>有效票數</th>\n      <th>無效票數</th>\n      <th>投票數</th>\n      <th>投票權人數</th>\n    </tr>\n  </thead>\n  <tbody>\n    <tr>\n      <th>3905</th>\n      <td>c16</td>\n      <td>高雄市</td>\n      <td>阿蓮區</td>\n      <td>6890</td>\n      <td>5125</td>\n      <td>12015</td>\n      <td>1066</td>\n      <td>13081</td>\n      <td>24534</td>\n    </tr>\n    <tr>\n      <th>3906</th>\n      <td>c16</td>\n      <td>高雄市</td>\n      <td>鳥松區</td>\n      <td>12625</td>\n      <td>9306</td>\n      <td>21931</td>\n      <td>1688</td>\n      <td>23619</td>\n      <td>39191</td>\n    </tr>\n    <tr>\n      <th>3907</th>\n      <td>c16</td>\n      <td>高雄市</td>\n      <td>鳳山區</td>\n      <td>99747</td>\n      <td>64662</td>\n      <td>164409</td>\n      <td>12511</td>\n      <td>176920</td>\n      <td>300510</td>\n    </tr>\n    <tr>\n      <th>3908</th>\n      <td>c16</td>\n      <td>高雄市</td>\n      <td>鹽埕區</td>\n      <td>6495</td>\n      <td>4957</td>\n      <td>11452</td>\n      <td>718</td>\n      <td>12170</td>\n      <td>21617</td>\n    </tr>\n    <tr>\n      <th>3909</th>\n      <td>c16</td>\n      <td>高雄市</td>\n      <td>鼓山區</td>\n      <td>38075</td>\n      <td>24959</td>\n      <td>63034</td>\n      <td>4429</td>\n      <td>67463</td>\n      <td>114979</td>\n    </tr>\n  </tbody>\n</table>\n</div>",
            "text/plain": "       案件   縣市 鄉鎮市區   同意票數  不同意票數    有效票數   無效票數     投票數   投票權人數\n3905  c16  高雄市  阿蓮區   6890   5125   12015   1066   13081   24534\n3906  c16  高雄市  鳥松區  12625   9306   21931   1688   23619   39191\n3907  c16  高雄市  鳳山區  99747  64662  164409  12511  176920  300510\n3908  c16  高雄市  鹽埕區   6495   4957   11452    718   12170   21617\n3909  c16  高雄市  鼓山區  38075  24959   63034   4429   67463  114979"
          },
          "metadata": {}
        }
      ]
    },
    {
      "metadata": {
        "trusted": true
      },
      "cell_type": "code",
      "source": "data['同意票數']",
      "execution_count": 6,
      "outputs": [
        {
          "output_type": "execute_result",
          "execution_count": 6,
          "data": {
            "text/plain": "0       7955753\n1        187162\n2          5701\n3          5087\n4          5246\n5         39753\n6         14946\n7          7165\n8         30711\n9          6511\n10        18659\n11        37026\n12         4068\n13         5746\n14         6543\n15        86276\n16        39258\n17        47018\n18       155084\n19        12785\n20         5958\n21         1555\n22         9837\n23        11773\n24         7992\n25         9871\n26        12753\n27         5735\n28         6588\n29        22895\n         ...   \n3880       9014\n3881      42230\n3882      28342\n3883      56269\n3884       5293\n3885      14213\n3886       9653\n3887       6331\n3888       2510\n3889      17898\n3890       1024\n3891       9540\n3892      50610\n3893      10396\n3894       4103\n3895       7579\n3896       8029\n3897       1690\n3898       1329\n3899      10310\n3900      48433\n3901        637\n3902       6925\n3903      13627\n3904        745\n3905       6890\n3906      12625\n3907      99747\n3908       6495\n3909      38075\nName: 同意票數, Length: 3910, dtype: int64"
          },
          "metadata": {}
        }
      ]
    },
    {
      "metadata": {
        "trusted": true
      },
      "cell_type": "code",
      "source": "x=data['同意票數']+data['不同意票數']-data['有效票數']",
      "execution_count": 8,
      "outputs": []
    },
    {
      "metadata": {
        "trusted": true
      },
      "cell_type": "code",
      "source": "x.describe()",
      "execution_count": 9,
      "outputs": [
        {
          "output_type": "execute_result",
          "execution_count": 9,
          "data": {
            "text/plain": "count    3910.0\nmean        0.0\nstd         0.0\nmin         0.0\n25%         0.0\n50%         0.0\n75%         0.0\nmax         0.0\ndtype: float64"
          },
          "metadata": {}
        }
      ]
    },
    {
      "metadata": {
        "trusted": true
      },
      "cell_type": "code",
      "source": "summary = data[data['縣市']=='全國']",
      "execution_count": 10,
      "outputs": []
    },
    {
      "metadata": {
        "trusted": true
      },
      "cell_type": "code",
      "source": "summary",
      "execution_count": 11,
      "outputs": [
        {
          "output_type": "execute_result",
          "execution_count": 11,
          "data": {
            "text/html": "<div>\n<style scoped>\n    .dataframe tbody tr th:only-of-type {\n        vertical-align: middle;\n    }\n\n    .dataframe tbody tr th {\n        vertical-align: top;\n    }\n\n    .dataframe thead th {\n        text-align: right;\n    }\n</style>\n<table border=\"1\" class=\"dataframe\">\n  <thead>\n    <tr style=\"text-align: right;\">\n      <th></th>\n      <th>案件</th>\n      <th>縣市</th>\n      <th>鄉鎮市區</th>\n      <th>同意票數</th>\n      <th>不同意票數</th>\n      <th>有效票數</th>\n      <th>無效票數</th>\n      <th>投票數</th>\n      <th>投票權人數</th>\n    </tr>\n  </thead>\n  <tbody>\n    <tr>\n      <th>0</th>\n      <td>c07</td>\n      <td>全國</td>\n      <td>NaN</td>\n      <td>7955753</td>\n      <td>2109157</td>\n      <td>10064910</td>\n      <td>715140</td>\n      <td>10780050</td>\n      <td>19757067</td>\n    </tr>\n    <tr>\n      <th>391</th>\n      <td>c08</td>\n      <td>全國</td>\n      <td>NaN</td>\n      <td>7599267</td>\n      <td>2346316</td>\n      <td>9945583</td>\n      <td>823945</td>\n      <td>10769528</td>\n      <td>19757067</td>\n    </tr>\n    <tr>\n      <th>782</th>\n      <td>c09</td>\n      <td>全國</td>\n      <td>NaN</td>\n      <td>7791856</td>\n      <td>2231425</td>\n      <td>10023281</td>\n      <td>756041</td>\n      <td>10779322</td>\n      <td>19757067</td>\n    </tr>\n    <tr>\n      <th>1173</th>\n      <td>c10</td>\n      <td>全國</td>\n      <td>NaN</td>\n      <td>7658008</td>\n      <td>2907429</td>\n      <td>10565437</td>\n      <td>459508</td>\n      <td>11024945</td>\n      <td>19757067</td>\n    </tr>\n    <tr>\n      <th>1564</th>\n      <td>c11</td>\n      <td>全國</td>\n      <td>NaN</td>\n      <td>7083379</td>\n      <td>3419624</td>\n      <td>10503003</td>\n      <td>507101</td>\n      <td>11010104</td>\n      <td>19757067</td>\n    </tr>\n    <tr>\n      <th>1955</th>\n      <td>c12</td>\n      <td>全國</td>\n      <td>NaN</td>\n      <td>6401748</td>\n      <td>4072471</td>\n      <td>10474219</td>\n      <td>540757</td>\n      <td>11014976</td>\n      <td>19757067</td>\n    </tr>\n    <tr>\n      <th>2346</th>\n      <td>c13</td>\n      <td>全國</td>\n      <td>NaN</td>\n      <td>4763086</td>\n      <td>5774556</td>\n      <td>10537642</td>\n      <td>505153</td>\n      <td>11042795</td>\n      <td>19757067</td>\n    </tr>\n    <tr>\n      <th>2737</th>\n      <td>c14</td>\n      <td>全國</td>\n      <td>NaN</td>\n      <td>3382286</td>\n      <td>6949697</td>\n      <td>10331983</td>\n      <td>608484</td>\n      <td>10940467</td>\n      <td>19757067</td>\n    </tr>\n    <tr>\n      <th>3128</th>\n      <td>c15</td>\n      <td>全國</td>\n      <td>NaN</td>\n      <td>3507665</td>\n      <td>6805171</td>\n      <td>10312836</td>\n      <td>619001</td>\n      <td>10931837</td>\n      <td>19757067</td>\n    </tr>\n    <tr>\n      <th>3519</th>\n      <td>c16</td>\n      <td>全國</td>\n      <td>NaN</td>\n      <td>5895560</td>\n      <td>4014215</td>\n      <td>9909775</td>\n      <td>922960</td>\n      <td>10832735</td>\n      <td>19757067</td>\n    </tr>\n  </tbody>\n</table>\n</div>",
            "text/plain": "       案件  縣市 鄉鎮市區     同意票數    不同意票數      有效票數    無效票數       投票數     投票權人數\n0     c07  全國  NaN  7955753  2109157  10064910  715140  10780050  19757067\n391   c08  全國  NaN  7599267  2346316   9945583  823945  10769528  19757067\n782   c09  全國  NaN  7791856  2231425  10023281  756041  10779322  19757067\n1173  c10  全國  NaN  7658008  2907429  10565437  459508  11024945  19757067\n1564  c11  全國  NaN  7083379  3419624  10503003  507101  11010104  19757067\n1955  c12  全國  NaN  6401748  4072471  10474219  540757  11014976  19757067\n2346  c13  全國  NaN  4763086  5774556  10537642  505153  11042795  19757067\n2737  c14  全國  NaN  3382286  6949697  10331983  608484  10940467  19757067\n3128  c15  全國  NaN  3507665  6805171  10312836  619001  10931837  19757067\n3519  c16  全國  NaN  5895560  4014215   9909775  922960  10832735  19757067"
          },
          "metadata": {}
        }
      ]
    },
    {
      "metadata": {
        "trusted": true
      },
      "cell_type": "code",
      "source": "summary['同意票數']/summary['投票數']",
      "execution_count": 12,
      "outputs": [
        {
          "output_type": "execute_result",
          "execution_count": 12,
          "data": {
            "text/plain": "0       0.738007\n391     0.705627\n782     0.722852\n1173    0.694607\n1564    0.643353\n1955    0.581186\n2346    0.431330\n2737    0.309154\n3128    0.320867\n3519    0.544236\ndtype: float64"
          },
          "metadata": {}
        }
      ]
    },
    {
      "metadata": {
        "trusted": true
      },
      "cell_type": "code",
      "source": "data2 = data.dropna(subset=['鄉鎮市區'])",
      "execution_count": 13,
      "outputs": []
    },
    {
      "metadata": {
        "trusted": true
      },
      "cell_type": "code",
      "source": "data2.head()",
      "execution_count": 14,
      "outputs": [
        {
          "output_type": "execute_result",
          "execution_count": 14,
          "data": {
            "text/html": "<div>\n<style scoped>\n    .dataframe tbody tr th:only-of-type {\n        vertical-align: middle;\n    }\n\n    .dataframe tbody tr th {\n        vertical-align: top;\n    }\n\n    .dataframe thead th {\n        text-align: right;\n    }\n</style>\n<table border=\"1\" class=\"dataframe\">\n  <thead>\n    <tr style=\"text-align: right;\">\n      <th></th>\n      <th>案件</th>\n      <th>縣市</th>\n      <th>鄉鎮市區</th>\n      <th>同意票數</th>\n      <th>不同意票數</th>\n      <th>有效票數</th>\n      <th>無效票數</th>\n      <th>投票數</th>\n      <th>投票權人數</th>\n    </tr>\n  </thead>\n  <tbody>\n    <tr>\n      <th>2</th>\n      <td>c07</td>\n      <td>南投縣</td>\n      <td>中寮鄉</td>\n      <td>5701</td>\n      <td>1272</td>\n      <td>6973</td>\n      <td>633</td>\n      <td>7606</td>\n      <td>13181</td>\n    </tr>\n    <tr>\n      <th>3</th>\n      <td>c07</td>\n      <td>南投縣</td>\n      <td>仁愛鄉</td>\n      <td>5087</td>\n      <td>1090</td>\n      <td>6177</td>\n      <td>467</td>\n      <td>6644</td>\n      <td>12589</td>\n    </tr>\n    <tr>\n      <th>4</th>\n      <td>c07</td>\n      <td>南投縣</td>\n      <td>信義鄉</td>\n      <td>5246</td>\n      <td>1259</td>\n      <td>6505</td>\n      <td>961</td>\n      <td>7466</td>\n      <td>13299</td>\n    </tr>\n    <tr>\n      <th>5</th>\n      <td>c07</td>\n      <td>南投縣</td>\n      <td>南投市</td>\n      <td>39753</td>\n      <td>8588</td>\n      <td>48341</td>\n      <td>2677</td>\n      <td>51018</td>\n      <td>84328</td>\n    </tr>\n    <tr>\n      <th>6</th>\n      <td>c07</td>\n      <td>南投縣</td>\n      <td>名間鄉</td>\n      <td>14946</td>\n      <td>3387</td>\n      <td>18333</td>\n      <td>1622</td>\n      <td>19955</td>\n      <td>33408</td>\n    </tr>\n  </tbody>\n</table>\n</div>",
            "text/plain": "    案件   縣市 鄉鎮市區   同意票數  不同意票數   有效票數  無效票數    投票數  投票權人數\n2  c07  南投縣  中寮鄉   5701   1272   6973   633   7606  13181\n3  c07  南投縣  仁愛鄉   5087   1090   6177   467   6644  12589\n4  c07  南投縣  信義鄉   5246   1259   6505   961   7466  13299\n5  c07  南投縣  南投市  39753   8588  48341  2677  51018  84328\n6  c07  南投縣  名間鄉  14946   3387  18333  1622  19955  33408"
          },
          "metadata": {}
        }
      ]
    },
    {
      "metadata": {
        "trusted": true
      },
      "cell_type": "code",
      "source": "data = data2",
      "execution_count": 16,
      "outputs": []
    },
    {
      "metadata": {
        "trusted": true
      },
      "cell_type": "code",
      "source": "data['贊成比例'] = data['同意票數']/data['投票數']",
      "execution_count": 17,
      "outputs": []
    },
    {
      "metadata": {
        "trusted": true
      },
      "cell_type": "code",
      "source": "data['鄉鎮市區'] = data['縣市'] + data['鄉鎮市區']",
      "execution_count": 19,
      "outputs": []
    },
    {
      "metadata": {
        "trusted": true
      },
      "cell_type": "code",
      "source": "data.head()",
      "execution_count": 20,
      "outputs": [
        {
          "output_type": "execute_result",
          "execution_count": 20,
          "data": {
            "text/html": "<div>\n<style scoped>\n    .dataframe tbody tr th:only-of-type {\n        vertical-align: middle;\n    }\n\n    .dataframe tbody tr th {\n        vertical-align: top;\n    }\n\n    .dataframe thead th {\n        text-align: right;\n    }\n</style>\n<table border=\"1\" class=\"dataframe\">\n  <thead>\n    <tr style=\"text-align: right;\">\n      <th></th>\n      <th>案件</th>\n      <th>縣市</th>\n      <th>鄉鎮市區</th>\n      <th>同意票數</th>\n      <th>不同意票數</th>\n      <th>有效票數</th>\n      <th>無效票數</th>\n      <th>投票數</th>\n      <th>投票權人數</th>\n      <th>贊成比例</th>\n    </tr>\n  </thead>\n  <tbody>\n    <tr>\n      <th>2</th>\n      <td>c07</td>\n      <td>南投縣</td>\n      <td>南投縣中寮鄉</td>\n      <td>5701</td>\n      <td>1272</td>\n      <td>6973</td>\n      <td>633</td>\n      <td>7606</td>\n      <td>13181</td>\n      <td>0.749540</td>\n    </tr>\n    <tr>\n      <th>3</th>\n      <td>c07</td>\n      <td>南投縣</td>\n      <td>南投縣仁愛鄉</td>\n      <td>5087</td>\n      <td>1090</td>\n      <td>6177</td>\n      <td>467</td>\n      <td>6644</td>\n      <td>12589</td>\n      <td>0.765653</td>\n    </tr>\n    <tr>\n      <th>4</th>\n      <td>c07</td>\n      <td>南投縣</td>\n      <td>南投縣信義鄉</td>\n      <td>5246</td>\n      <td>1259</td>\n      <td>6505</td>\n      <td>961</td>\n      <td>7466</td>\n      <td>13299</td>\n      <td>0.702652</td>\n    </tr>\n    <tr>\n      <th>5</th>\n      <td>c07</td>\n      <td>南投縣</td>\n      <td>南投縣南投市</td>\n      <td>39753</td>\n      <td>8588</td>\n      <td>48341</td>\n      <td>2677</td>\n      <td>51018</td>\n      <td>84328</td>\n      <td>0.779196</td>\n    </tr>\n    <tr>\n      <th>6</th>\n      <td>c07</td>\n      <td>南投縣</td>\n      <td>南投縣名間鄉</td>\n      <td>14946</td>\n      <td>3387</td>\n      <td>18333</td>\n      <td>1622</td>\n      <td>19955</td>\n      <td>33408</td>\n      <td>0.748985</td>\n    </tr>\n  </tbody>\n</table>\n</div>",
            "text/plain": "    案件   縣市    鄉鎮市區   同意票數  不同意票數   有效票數  無效票數    投票數  投票權人數      贊成比例\n2  c07  南投縣  南投縣中寮鄉   5701   1272   6973   633   7606  13181  0.749540\n3  c07  南投縣  南投縣仁愛鄉   5087   1090   6177   467   6644  12589  0.765653\n4  c07  南投縣  南投縣信義鄉   5246   1259   6505   961   7466  13299  0.702652\n5  c07  南投縣  南投縣南投市  39753   8588  48341  2677  51018  84328  0.779196\n6  c07  南投縣  南投縣名間鄉  14946   3387  18333  1622  19955  33408  0.748985"
          },
          "metadata": {}
        }
      ]
    },
    {
      "metadata": {
        "trusted": true
      },
      "cell_type": "code",
      "source": "data2 = data[['案件', '鄉鎮市區', '贊成比例']]",
      "execution_count": 21,
      "outputs": []
    },
    {
      "metadata": {
        "trusted": true
      },
      "cell_type": "code",
      "source": "data2.head()",
      "execution_count": 22,
      "outputs": [
        {
          "output_type": "execute_result",
          "execution_count": 22,
          "data": {
            "text/html": "<div>\n<style scoped>\n    .dataframe tbody tr th:only-of-type {\n        vertical-align: middle;\n    }\n\n    .dataframe tbody tr th {\n        vertical-align: top;\n    }\n\n    .dataframe thead th {\n        text-align: right;\n    }\n</style>\n<table border=\"1\" class=\"dataframe\">\n  <thead>\n    <tr style=\"text-align: right;\">\n      <th></th>\n      <th>案件</th>\n      <th>鄉鎮市區</th>\n      <th>贊成比例</th>\n    </tr>\n  </thead>\n  <tbody>\n    <tr>\n      <th>2</th>\n      <td>c07</td>\n      <td>南投縣中寮鄉</td>\n      <td>0.749540</td>\n    </tr>\n    <tr>\n      <th>3</th>\n      <td>c07</td>\n      <td>南投縣仁愛鄉</td>\n      <td>0.765653</td>\n    </tr>\n    <tr>\n      <th>4</th>\n      <td>c07</td>\n      <td>南投縣信義鄉</td>\n      <td>0.702652</td>\n    </tr>\n    <tr>\n      <th>5</th>\n      <td>c07</td>\n      <td>南投縣南投市</td>\n      <td>0.779196</td>\n    </tr>\n    <tr>\n      <th>6</th>\n      <td>c07</td>\n      <td>南投縣名間鄉</td>\n      <td>0.748985</td>\n    </tr>\n  </tbody>\n</table>\n</div>",
            "text/plain": "    案件    鄉鎮市區      贊成比例\n2  c07  南投縣中寮鄉  0.749540\n3  c07  南投縣仁愛鄉  0.765653\n4  c07  南投縣信義鄉  0.702652\n5  c07  南投縣南投市  0.779196\n6  c07  南投縣名間鄉  0.748985"
          },
          "metadata": {}
        }
      ]
    },
    {
      "metadata": {
        "trusted": true
      },
      "cell_type": "code",
      "source": "data = data2",
      "execution_count": 23,
      "outputs": []
    },
    {
      "metadata": {
        "trusted": true
      },
      "cell_type": "code",
      "source": "x07 = data[data['案件']=='c07'][['鄉鎮市區','贊成比例']]",
      "execution_count": 26,
      "outputs": []
    },
    {
      "metadata": {
        "trusted": true
      },
      "cell_type": "code",
      "source": "x08 = data[data['案件']=='c08'][['鄉鎮市區','贊成比例']]",
      "execution_count": 28,
      "outputs": []
    },
    {
      "metadata": {
        "trusted": true
      },
      "cell_type": "code",
      "source": "x07.head()",
      "execution_count": 29,
      "outputs": [
        {
          "output_type": "execute_result",
          "execution_count": 29,
          "data": {
            "text/html": "<div>\n<style scoped>\n    .dataframe tbody tr th:only-of-type {\n        vertical-align: middle;\n    }\n\n    .dataframe tbody tr th {\n        vertical-align: top;\n    }\n\n    .dataframe thead th {\n        text-align: right;\n    }\n</style>\n<table border=\"1\" class=\"dataframe\">\n  <thead>\n    <tr style=\"text-align: right;\">\n      <th></th>\n      <th>鄉鎮市區</th>\n      <th>贊成比例</th>\n    </tr>\n  </thead>\n  <tbody>\n    <tr>\n      <th>2</th>\n      <td>南投縣中寮鄉</td>\n      <td>0.749540</td>\n    </tr>\n    <tr>\n      <th>3</th>\n      <td>南投縣仁愛鄉</td>\n      <td>0.765653</td>\n    </tr>\n    <tr>\n      <th>4</th>\n      <td>南投縣信義鄉</td>\n      <td>0.702652</td>\n    </tr>\n    <tr>\n      <th>5</th>\n      <td>南投縣南投市</td>\n      <td>0.779196</td>\n    </tr>\n    <tr>\n      <th>6</th>\n      <td>南投縣名間鄉</td>\n      <td>0.748985</td>\n    </tr>\n  </tbody>\n</table>\n</div>",
            "text/plain": "     鄉鎮市區      贊成比例\n2  南投縣中寮鄉  0.749540\n3  南投縣仁愛鄉  0.765653\n4  南投縣信義鄉  0.702652\n5  南投縣南投市  0.779196\n6  南投縣名間鄉  0.748985"
          },
          "metadata": {}
        }
      ]
    },
    {
      "metadata": {
        "trusted": true
      },
      "cell_type": "code",
      "source": "tmp = pd.concat([x07.set_index('鄉鎮市區'), x08.set_index('鄉鎮市區')], axis=1)",
      "execution_count": 32,
      "outputs": []
    },
    {
      "metadata": {
        "trusted": true
      },
      "cell_type": "code",
      "source": "tmp.head()",
      "execution_count": 33,
      "outputs": [
        {
          "output_type": "execute_result",
          "execution_count": 33,
          "data": {
            "text/html": "<div>\n<style scoped>\n    .dataframe tbody tr th:only-of-type {\n        vertical-align: middle;\n    }\n\n    .dataframe tbody tr th {\n        vertical-align: top;\n    }\n\n    .dataframe thead th {\n        text-align: right;\n    }\n</style>\n<table border=\"1\" class=\"dataframe\">\n  <thead>\n    <tr style=\"text-align: right;\">\n      <th></th>\n      <th>贊成比例</th>\n      <th>贊成比例</th>\n    </tr>\n    <tr>\n      <th>鄉鎮市區</th>\n      <th></th>\n      <th></th>\n    </tr>\n  </thead>\n  <tbody>\n    <tr>\n      <th>南投縣中寮鄉</th>\n      <td>0.749540</td>\n      <td>0.697788</td>\n    </tr>\n    <tr>\n      <th>南投縣仁愛鄉</th>\n      <td>0.765653</td>\n      <td>0.745260</td>\n    </tr>\n    <tr>\n      <th>南投縣信義鄉</th>\n      <td>0.702652</td>\n      <td>0.678333</td>\n    </tr>\n    <tr>\n      <th>南投縣南投市</th>\n      <td>0.779196</td>\n      <td>0.746915</td>\n    </tr>\n    <tr>\n      <th>南投縣名間鄉</th>\n      <td>0.748985</td>\n      <td>0.712804</td>\n    </tr>\n  </tbody>\n</table>\n</div>",
            "text/plain": "            贊成比例      贊成比例\n鄉鎮市區                      \n南投縣中寮鄉  0.749540  0.697788\n南投縣仁愛鄉  0.765653  0.745260\n南投縣信義鄉  0.702652  0.678333\n南投縣南投市  0.779196  0.746915\n南投縣名間鄉  0.748985  0.712804"
          },
          "metadata": {}
        }
      ]
    },
    {
      "metadata": {
        "trusted": true
      },
      "cell_type": "code",
      "source": "tmp.columns = ['c07', 'c08']",
      "execution_count": 34,
      "outputs": []
    },
    {
      "metadata": {
        "trusted": true
      },
      "cell_type": "code",
      "source": "tmp.head()",
      "execution_count": 35,
      "outputs": [
        {
          "output_type": "execute_result",
          "execution_count": 35,
          "data": {
            "text/html": "<div>\n<style scoped>\n    .dataframe tbody tr th:only-of-type {\n        vertical-align: middle;\n    }\n\n    .dataframe tbody tr th {\n        vertical-align: top;\n    }\n\n    .dataframe thead th {\n        text-align: right;\n    }\n</style>\n<table border=\"1\" class=\"dataframe\">\n  <thead>\n    <tr style=\"text-align: right;\">\n      <th></th>\n      <th>c07</th>\n      <th>c08</th>\n    </tr>\n    <tr>\n      <th>鄉鎮市區</th>\n      <th></th>\n      <th></th>\n    </tr>\n  </thead>\n  <tbody>\n    <tr>\n      <th>南投縣中寮鄉</th>\n      <td>0.749540</td>\n      <td>0.697788</td>\n    </tr>\n    <tr>\n      <th>南投縣仁愛鄉</th>\n      <td>0.765653</td>\n      <td>0.745260</td>\n    </tr>\n    <tr>\n      <th>南投縣信義鄉</th>\n      <td>0.702652</td>\n      <td>0.678333</td>\n    </tr>\n    <tr>\n      <th>南投縣南投市</th>\n      <td>0.779196</td>\n      <td>0.746915</td>\n    </tr>\n    <tr>\n      <th>南投縣名間鄉</th>\n      <td>0.748985</td>\n      <td>0.712804</td>\n    </tr>\n  </tbody>\n</table>\n</div>",
            "text/plain": "             c07       c08\n鄉鎮市區                      \n南投縣中寮鄉  0.749540  0.697788\n南投縣仁愛鄉  0.765653  0.745260\n南投縣信義鄉  0.702652  0.678333\n南投縣南投市  0.779196  0.746915\n南投縣名間鄉  0.748985  0.712804"
          },
          "metadata": {}
        }
      ]
    },
    {
      "metadata": {
        "trusted": true
      },
      "cell_type": "code",
      "source": "summary = data[data['案件']=='c07'][['鄉鎮市區','贊成比例']].set_index('鄉鎮市區')\ncnames = data['案件'].unique()\nfor c in cnames[1:] :\n    tmp = data[data['案件']==c][['鄉鎮市區','贊成比例']]\n    summary = pd.concat([summary, tmp.set_index('鄉鎮市區')], axis=1)\n\nsummary.columns = cnames",
      "execution_count": 42,
      "outputs": []
    },
    {
      "metadata": {
        "trusted": true
      },
      "cell_type": "code",
      "source": "drawing=summary.plot(kind='scatter', x='c07', y='c08')",
      "execution_count": 43,
      "outputs": [
        {
          "output_type": "display_data",
          "data": {
            "image/png": "[encoded data removed]",
            "text/plain": "<Figure size 432x288 with 1 Axes>"
          },
          "metadata": {
            "needs_background": "light"
          }
        }
      ]
    },
    {
      "metadata": {
        "trusted": true
      },
      "cell_type": "code",
      "source": "summary.head()",
      "execution_count": 44,
      "outputs": [
        {
          "output_type": "execute_result",
          "execution_count": 44,
          "data": {
            "text/html": "<div>\n<style scoped>\n    .dataframe tbody tr th:only-of-type {\n        vertical-align: middle;\n    }\n\n    .dataframe tbody tr th {\n        vertical-align: top;\n    }\n\n    .dataframe thead th {\n        text-align: right;\n    }\n</style>\n<table border=\"1\" class=\"dataframe\">\n  <thead>\n    <tr style=\"text-align: right;\">\n      <th></th>\n      <th>c07</th>\n      <th>c08</th>\n      <th>c09</th>\n      <th>c10</th>\n      <th>c11</th>\n      <th>c12</th>\n      <th>c13</th>\n      <th>c14</th>\n      <th>c15</th>\n      <th>c16</th>\n    </tr>\n    <tr>\n      <th>鄉鎮市區</th>\n      <th></th>\n      <th></th>\n      <th></th>\n      <th></th>\n      <th></th>\n      <th></th>\n      <th></th>\n      <th></th>\n      <th></th>\n      <th></th>\n    </tr>\n  </thead>\n  <tbody>\n    <tr>\n      <th>南投縣中寮鄉</th>\n      <td>0.749540</td>\n      <td>0.697788</td>\n      <td>0.710008</td>\n      <td>0.749902</td>\n      <td>0.658744</td>\n      <td>0.548054</td>\n      <td>0.420292</td>\n      <td>0.246301</td>\n      <td>0.254653</td>\n      <td>0.537229</td>\n    </tr>\n    <tr>\n      <th>南投縣仁愛鄉</th>\n      <td>0.765653</td>\n      <td>0.745260</td>\n      <td>0.710720</td>\n      <td>0.787026</td>\n      <td>0.720165</td>\n      <td>0.601375</td>\n      <td>0.335197</td>\n      <td>0.255328</td>\n      <td>0.236964</td>\n      <td>0.578916</td>\n    </tr>\n    <tr>\n      <th>南投縣信義鄉</th>\n      <td>0.702652</td>\n      <td>0.678333</td>\n      <td>0.640608</td>\n      <td>0.808898</td>\n      <td>0.736724</td>\n      <td>0.665607</td>\n      <td>0.366166</td>\n      <td>0.213165</td>\n      <td>0.178258</td>\n      <td>0.539239</td>\n    </tr>\n    <tr>\n      <th>南投縣南投市</th>\n      <td>0.779196</td>\n      <td>0.746915</td>\n      <td>0.752423</td>\n      <td>0.732510</td>\n      <td>0.672787</td>\n      <td>0.598312</td>\n      <td>0.394810</td>\n      <td>0.265502</td>\n      <td>0.283559</td>\n      <td>0.580385</td>\n    </tr>\n    <tr>\n      <th>南投縣名間鄉</th>\n      <td>0.748985</td>\n      <td>0.712804</td>\n      <td>0.709273</td>\n      <td>0.721098</td>\n      <td>0.655873</td>\n      <td>0.572209</td>\n      <td>0.437441</td>\n      <td>0.251516</td>\n      <td>0.269818</td>\n      <td>0.555150</td>\n    </tr>\n  </tbody>\n</table>\n</div>",
            "text/plain": "             c07       c08       c09       c10       c11       c12       c13  \\\n鄉鎮市區                                                                           \n南投縣中寮鄉  0.749540  0.697788  0.710008  0.749902  0.658744  0.548054  0.420292   \n南投縣仁愛鄉  0.765653  0.745260  0.710720  0.787026  0.720165  0.601375  0.335197   \n南投縣信義鄉  0.702652  0.678333  0.640608  0.808898  0.736724  0.665607  0.366166   \n南投縣南投市  0.779196  0.746915  0.752423  0.732510  0.672787  0.598312  0.394810   \n南投縣名間鄉  0.748985  0.712804  0.709273  0.721098  0.655873  0.572209  0.437441   \n\n             c14       c15       c16  \n鄉鎮市區                                  \n南投縣中寮鄉  0.246301  0.254653  0.537229  \n南投縣仁愛鄉  0.255328  0.236964  0.578916  \n南投縣信義鄉  0.213165  0.178258  0.539239  \n南投縣南投市  0.265502  0.283559  0.580385  \n南投縣名間鄉  0.251516  0.269818  0.555150  "
          },
          "metadata": {}
        }
      ]
    },
    {
      "metadata": {
        "trusted": true
      },
      "cell_type": "code",
      "source": "",
      "execution_count": null,
      "outputs": []
    }
  ],
  "metadata": {
    "kernelspec": {
      "name": "python36",
      "display_name": "Python 3.6",
      "language": "python"
    },
    "language_info": {
      "mimetype": "text/x-python",
      "nbconvert_exporter": "python",
      "name": "python",
      "pygments_lexer": "ipython3",
      "version": "3.6.6",
      "file_extension": ".py",
      "codemirror_mode": {
        "version": 3,
        "name": "ipython"
      }
    }
  },
  "nbformat": 4,
  "nbformat_minor": 2
}
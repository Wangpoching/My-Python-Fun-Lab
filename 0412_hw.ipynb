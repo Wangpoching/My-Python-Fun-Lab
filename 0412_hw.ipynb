{
  "cells": [
    {
      "metadata": {
        "trusted": true
      },
      "cell_type": "code",
      "source": "%matplotlib inline\n\nimport numpy as np\nimport pandas as pd\nimport matplotlib.pyplot as plt",
      "execution_count": 87,
      "outputs": []
    },
    {
      "metadata": {
        "trusted": true
      },
      "cell_type": "code",
      "source": "crime = pd.read_csv(\"crime_newtaipei.csv\")",
      "execution_count": 88,
      "outputs": []
    },
    {
      "metadata": {
        "trusted": true
      },
      "cell_type": "code",
      "source": "crime.head()",
      "execution_count": 89,
      "outputs": [
        {
          "output_type": "execute_result",
          "execution_count": 89,
          "data": {
            "text/html": "<div>\n<style scoped>\n    .dataframe tbody tr th:only-of-type {\n        vertical-align: middle;\n    }\n\n    .dataframe tbody tr th {\n        vertical-align: top;\n    }\n\n    .dataframe thead th {\n        text-align: right;\n    }\n</style>\n<table border=\"1\" class=\"dataframe\">\n  <thead>\n    <tr style=\"text-align: right;\">\n      <th></th>\n      <th>區</th>\n      <th>竊盜數目</th>\n      <th>總人口</th>\n    </tr>\n  </thead>\n  <tbody>\n    <tr>\n      <th>0</th>\n      <td>板橋區</td>\n      <td>1433</td>\n      <td>555,001</td>\n    </tr>\n    <tr>\n      <th>1</th>\n      <td>中和區</td>\n      <td>828</td>\n      <td>412,114</td>\n    </tr>\n    <tr>\n      <th>2</th>\n      <td>永和區</td>\n      <td>401</td>\n      <td>221,265</td>\n    </tr>\n    <tr>\n      <th>3</th>\n      <td>三重區</td>\n      <td>1191</td>\n      <td>385,550</td>\n    </tr>\n    <tr>\n      <th>4</th>\n      <td>新莊區</td>\n      <td>1277</td>\n      <td>418,219</td>\n    </tr>\n  </tbody>\n</table>\n</div>",
            "text/plain": "     區  竊盜數目      總人口\n0  板橋區  1433  555,001\n1  中和區   828  412,114\n2  永和區   401  221,265\n3  三重區  1191  385,550\n4  新莊區  1277  418,219"
          },
          "metadata": {}
        }
      ]
    },
    {
      "metadata": {
        "trusted": true
      },
      "cell_type": "code",
      "source": "seven = pd.read_csv(\"7-11_newtaipei.csv\")",
      "execution_count": 90,
      "outputs": []
    },
    {
      "metadata": {
        "trusted": true
      },
      "cell_type": "code",
      "source": "seven.head()",
      "execution_count": 91,
      "outputs": [
        {
          "output_type": "execute_result",
          "execution_count": 91,
          "data": {
            "text/html": "<div>\n<style scoped>\n    .dataframe tbody tr th:only-of-type {\n        vertical-align: middle;\n    }\n\n    .dataframe tbody tr th {\n        vertical-align: top;\n    }\n\n    .dataframe thead th {\n        text-align: right;\n    }\n</style>\n<table border=\"1\" class=\"dataframe\">\n  <thead>\n    <tr style=\"text-align: right;\">\n      <th></th>\n      <th>區</th>\n      <th>有廁所的</th>\n      <th>小7數目</th>\n    </tr>\n  </thead>\n  <tbody>\n    <tr>\n      <th>0</th>\n      <td>萬里區</td>\n      <td>2</td>\n      <td>4</td>\n    </tr>\n    <tr>\n      <th>1</th>\n      <td>金山區</td>\n      <td>4</td>\n      <td>4</td>\n    </tr>\n    <tr>\n      <th>2</th>\n      <td>板橋區</td>\n      <td>55</td>\n      <td>118</td>\n    </tr>\n    <tr>\n      <th>3</th>\n      <td>汐止區</td>\n      <td>28</td>\n      <td>47</td>\n    </tr>\n    <tr>\n      <th>4</th>\n      <td>深坑區</td>\n      <td>5</td>\n      <td>7</td>\n    </tr>\n  </tbody>\n</table>\n</div>",
            "text/plain": "     區  有廁所的  小7數目\n0  萬里區     2     4\n1  金山區     4     4\n2  板橋區    55   118\n3  汐止區    28    47\n4  深坑區     5     7"
          },
          "metadata": {}
        }
      ]
    },
    {
      "metadata": {
        "trusted": true
      },
      "cell_type": "code",
      "source": "import locale",
      "execution_count": 92,
      "outputs": []
    },
    {
      "metadata": {
        "trusted": true
      },
      "cell_type": "code",
      "source": "locale.setlocale(locale.LC_NUMERIC,'')",
      "execution_count": 93,
      "outputs": [
        {
          "output_type": "execute_result",
          "execution_count": 93,
          "data": {
            "text/plain": "'en_US.UTF-8'"
          },
          "metadata": {}
        }
      ]
    },
    {
      "metadata": {
        "trusted": true
      },
      "cell_type": "code",
      "source": "crime['竊盜數目'] = crime['竊盜數目'].astype(str).apply(locale.atof)",
      "execution_count": 94,
      "outputs": []
    },
    {
      "metadata": {
        "trusted": true
      },
      "cell_type": "code",
      "source": "crime['總人口'] = crime['總人口'].astype(str).apply(locale.atof)",
      "execution_count": 95,
      "outputs": []
    },
    {
      "metadata": {
        "trusted": true
      },
      "cell_type": "code",
      "source": "crime.head()",
      "execution_count": 96,
      "outputs": [
        {
          "output_type": "execute_result",
          "execution_count": 96,
          "data": {
            "text/html": "<div>\n<style scoped>\n    .dataframe tbody tr th:only-of-type {\n        vertical-align: middle;\n    }\n\n    .dataframe tbody tr th {\n        vertical-align: top;\n    }\n\n    .dataframe thead th {\n        text-align: right;\n    }\n</style>\n<table border=\"1\" class=\"dataframe\">\n  <thead>\n    <tr style=\"text-align: right;\">\n      <th></th>\n      <th>區</th>\n      <th>竊盜數目</th>\n      <th>總人口</th>\n    </tr>\n  </thead>\n  <tbody>\n    <tr>\n      <th>0</th>\n      <td>板橋區</td>\n      <td>1433.0</td>\n      <td>555001.0</td>\n    </tr>\n    <tr>\n      <th>1</th>\n      <td>中和區</td>\n      <td>828.0</td>\n      <td>412114.0</td>\n    </tr>\n    <tr>\n      <th>2</th>\n      <td>永和區</td>\n      <td>401.0</td>\n      <td>221265.0</td>\n    </tr>\n    <tr>\n      <th>3</th>\n      <td>三重區</td>\n      <td>1191.0</td>\n      <td>385550.0</td>\n    </tr>\n    <tr>\n      <th>4</th>\n      <td>新莊區</td>\n      <td>1277.0</td>\n      <td>418219.0</td>\n    </tr>\n  </tbody>\n</table>\n</div>",
            "text/plain": "     區    竊盜數目       總人口\n0  板橋區  1433.0  555001.0\n1  中和區   828.0  412114.0\n2  永和區   401.0  221265.0\n3  三重區  1191.0  385550.0\n4  新莊區  1277.0  418219.0"
          },
          "metadata": {}
        }
      ]
    },
    {
      "metadata": {
        "trusted": true
      },
      "cell_type": "code",
      "source": "crime['竊盜比例'] = crime.竊盜數目/crime.總人口",
      "execution_count": 97,
      "outputs": []
    },
    {
      "metadata": {
        "trusted": true
      },
      "cell_type": "code",
      "source": "crime.head()",
      "execution_count": 98,
      "outputs": [
        {
          "output_type": "execute_result",
          "execution_count": 98,
          "data": {
            "text/html": "<div>\n<style scoped>\n    .dataframe tbody tr th:only-of-type {\n        vertical-align: middle;\n    }\n\n    .dataframe tbody tr th {\n        vertical-align: top;\n    }\n\n    .dataframe thead th {\n        text-align: right;\n    }\n</style>\n<table border=\"1\" class=\"dataframe\">\n  <thead>\n    <tr style=\"text-align: right;\">\n      <th></th>\n      <th>區</th>\n      <th>竊盜數目</th>\n      <th>總人口</th>\n      <th>竊盜比例</th>\n    </tr>\n  </thead>\n  <tbody>\n    <tr>\n      <th>0</th>\n      <td>板橋區</td>\n      <td>1433.0</td>\n      <td>555001.0</td>\n      <td>0.002582</td>\n    </tr>\n    <tr>\n      <th>1</th>\n      <td>中和區</td>\n      <td>828.0</td>\n      <td>412114.0</td>\n      <td>0.002009</td>\n    </tr>\n    <tr>\n      <th>2</th>\n      <td>永和區</td>\n      <td>401.0</td>\n      <td>221265.0</td>\n      <td>0.001812</td>\n    </tr>\n    <tr>\n      <th>3</th>\n      <td>三重區</td>\n      <td>1191.0</td>\n      <td>385550.0</td>\n      <td>0.003089</td>\n    </tr>\n    <tr>\n      <th>4</th>\n      <td>新莊區</td>\n      <td>1277.0</td>\n      <td>418219.0</td>\n      <td>0.003053</td>\n    </tr>\n  </tbody>\n</table>\n</div>",
            "text/plain": "     區    竊盜數目       總人口      竊盜比例\n0  板橋區  1433.0  555001.0  0.002582\n1  中和區   828.0  412114.0  0.002009\n2  永和區   401.0  221265.0  0.001812\n3  三重區  1191.0  385550.0  0.003089\n4  新莊區  1277.0  418219.0  0.003053"
          },
          "metadata": {}
        }
      ]
    },
    {
      "metadata": {
        "trusted": true
      },
      "cell_type": "code",
      "source": "seven['有廁所的'] = seven['有廁所的'].astype(str).apply(locale.atof)",
      "execution_count": 99,
      "outputs": []
    },
    {
      "metadata": {
        "trusted": true
      },
      "cell_type": "code",
      "source": "seven['小7數目'] = seven['小7數目'].astype(str).apply(locale.atof)",
      "execution_count": 100,
      "outputs": []
    },
    {
      "metadata": {
        "trusted": true
      },
      "cell_type": "code",
      "source": "seven['有廁所比例'] = seven['有廁所的']/seven['小7數目']",
      "execution_count": 101,
      "outputs": []
    },
    {
      "metadata": {
        "trusted": true
      },
      "cell_type": "code",
      "source": "seven.head()",
      "execution_count": 102,
      "outputs": [
        {
          "output_type": "execute_result",
          "execution_count": 102,
          "data": {
            "text/html": "<div>\n<style scoped>\n    .dataframe tbody tr th:only-of-type {\n        vertical-align: middle;\n    }\n\n    .dataframe tbody tr th {\n        vertical-align: top;\n    }\n\n    .dataframe thead th {\n        text-align: right;\n    }\n</style>\n<table border=\"1\" class=\"dataframe\">\n  <thead>\n    <tr style=\"text-align: right;\">\n      <th></th>\n      <th>區</th>\n      <th>有廁所的</th>\n      <th>小7數目</th>\n      <th>有廁所比例</th>\n    </tr>\n  </thead>\n  <tbody>\n    <tr>\n      <th>0</th>\n      <td>萬里區</td>\n      <td>2.0</td>\n      <td>4.0</td>\n      <td>0.500000</td>\n    </tr>\n    <tr>\n      <th>1</th>\n      <td>金山區</td>\n      <td>4.0</td>\n      <td>4.0</td>\n      <td>1.000000</td>\n    </tr>\n    <tr>\n      <th>2</th>\n      <td>板橋區</td>\n      <td>55.0</td>\n      <td>118.0</td>\n      <td>0.466102</td>\n    </tr>\n    <tr>\n      <th>3</th>\n      <td>汐止區</td>\n      <td>28.0</td>\n      <td>47.0</td>\n      <td>0.595745</td>\n    </tr>\n    <tr>\n      <th>4</th>\n      <td>深坑區</td>\n      <td>5.0</td>\n      <td>7.0</td>\n      <td>0.714286</td>\n    </tr>\n  </tbody>\n</table>\n</div>",
            "text/plain": "     區  有廁所的   小7數目     有廁所比例\n0  萬里區   2.0    4.0  0.500000\n1  金山區   4.0    4.0  1.000000\n2  板橋區  55.0  118.0  0.466102\n3  汐止區  28.0   47.0  0.595745\n4  深坑區   5.0    7.0  0.714286"
          },
          "metadata": {}
        }
      ]
    },
    {
      "metadata": {
        "trusted": true
      },
      "cell_type": "code",
      "source": "df = pd.merge(seven,crime)",
      "execution_count": 108,
      "outputs": []
    },
    {
      "metadata": {
        "trusted": true
      },
      "cell_type": "code",
      "source": "df",
      "execution_count": 110,
      "outputs": [
        {
          "output_type": "execute_result",
          "execution_count": 110,
          "data": {
            "text/html": "<div>\n<style scoped>\n    .dataframe tbody tr th:only-of-type {\n        vertical-align: middle;\n    }\n\n    .dataframe tbody tr th {\n        vertical-align: top;\n    }\n\n    .dataframe thead th {\n        text-align: right;\n    }\n</style>\n<table border=\"1\" class=\"dataframe\">\n  <thead>\n    <tr style=\"text-align: right;\">\n      <th></th>\n      <th>區</th>\n      <th>有廁所的</th>\n      <th>小7數目</th>\n      <th>有廁所比例</th>\n      <th>竊盜數目</th>\n      <th>總人口</th>\n      <th>竊盜比例</th>\n    </tr>\n  </thead>\n  <tbody>\n    <tr>\n      <th>0</th>\n      <td>金山區</td>\n      <td>4.0</td>\n      <td>4.0</td>\n      <td>1.000000</td>\n      <td>46.0</td>\n      <td>21657.0</td>\n      <td>0.002124</td>\n    </tr>\n    <tr>\n      <th>1</th>\n      <td>板橋區</td>\n      <td>55.0</td>\n      <td>118.0</td>\n      <td>0.466102</td>\n      <td>1433.0</td>\n      <td>555001.0</td>\n      <td>0.002582</td>\n    </tr>\n    <tr>\n      <th>2</th>\n      <td>汐止區</td>\n      <td>28.0</td>\n      <td>47.0</td>\n      <td>0.595745</td>\n      <td>318.0</td>\n      <td>201151.0</td>\n      <td>0.001581</td>\n    </tr>\n    <tr>\n      <th>3</th>\n      <td>瑞芳區</td>\n      <td>4.0</td>\n      <td>9.0</td>\n      <td>0.444444</td>\n      <td>135.0</td>\n      <td>39812.0</td>\n      <td>0.003391</td>\n    </tr>\n    <tr>\n      <th>4</th>\n      <td>新店區</td>\n      <td>33.0</td>\n      <td>71.0</td>\n      <td>0.464789</td>\n      <td>508.0</td>\n      <td>302085.0</td>\n      <td>0.001682</td>\n    </tr>\n    <tr>\n      <th>5</th>\n      <td>永和區</td>\n      <td>18.0</td>\n      <td>46.0</td>\n      <td>0.391304</td>\n      <td>401.0</td>\n      <td>221265.0</td>\n      <td>0.001812</td>\n    </tr>\n    <tr>\n      <th>6</th>\n      <td>中和區</td>\n      <td>42.0</td>\n      <td>96.0</td>\n      <td>0.437500</td>\n      <td>828.0</td>\n      <td>412114.0</td>\n      <td>0.002009</td>\n    </tr>\n    <tr>\n      <th>7</th>\n      <td>土城區</td>\n      <td>41.0</td>\n      <td>53.0</td>\n      <td>0.773585</td>\n      <td>623.0</td>\n      <td>236946.0</td>\n      <td>0.002629</td>\n    </tr>\n    <tr>\n      <th>8</th>\n      <td>三峽區</td>\n      <td>25.0</td>\n      <td>28.0</td>\n      <td>0.892857</td>\n      <td>508.0</td>\n      <td>116058.0</td>\n      <td>0.004377</td>\n    </tr>\n    <tr>\n      <th>9</th>\n      <td>樹林區</td>\n      <td>29.0</td>\n      <td>44.0</td>\n      <td>0.659091</td>\n      <td>373.0</td>\n      <td>183811.0</td>\n      <td>0.002029</td>\n    </tr>\n    <tr>\n      <th>10</th>\n      <td>三重區</td>\n      <td>52.0</td>\n      <td>87.0</td>\n      <td>0.597701</td>\n      <td>1191.0</td>\n      <td>385550.0</td>\n      <td>0.003089</td>\n    </tr>\n    <tr>\n      <th>11</th>\n      <td>新莊區</td>\n      <td>46.0</td>\n      <td>93.0</td>\n      <td>0.494624</td>\n      <td>1277.0</td>\n      <td>418219.0</td>\n      <td>0.003053</td>\n    </tr>\n    <tr>\n      <th>12</th>\n      <td>林口區</td>\n      <td>24.0</td>\n      <td>33.0</td>\n      <td>0.727273</td>\n      <td>267.0</td>\n      <td>111589.0</td>\n      <td>0.002393</td>\n    </tr>\n    <tr>\n      <th>13</th>\n      <td>蘆洲區</td>\n      <td>27.0</td>\n      <td>41.0</td>\n      <td>0.658537</td>\n      <td>736.0</td>\n      <td>201388.0</td>\n      <td>0.003655</td>\n    </tr>\n    <tr>\n      <th>14</th>\n      <td>淡水區</td>\n      <td>36.0</td>\n      <td>48.0</td>\n      <td>0.750000</td>\n      <td>303.0</td>\n      <td>174652.0</td>\n      <td>0.001735</td>\n    </tr>\n  </tbody>\n</table>\n</div>",
            "text/plain": "      區  有廁所的   小7數目     有廁所比例    竊盜數目       總人口      竊盜比例\n0   金山區   4.0    4.0  1.000000    46.0   21657.0  0.002124\n1   板橋區  55.0  118.0  0.466102  1433.0  555001.0  0.002582\n2   汐止區  28.0   47.0  0.595745   318.0  201151.0  0.001581\n3   瑞芳區   4.0    9.0  0.444444   135.0   39812.0  0.003391\n4   新店區  33.0   71.0  0.464789   508.0  302085.0  0.001682\n5   永和區  18.0   46.0  0.391304   401.0  221265.0  0.001812\n6   中和區  42.0   96.0  0.437500   828.0  412114.0  0.002009\n7   土城區  41.0   53.0  0.773585   623.0  236946.0  0.002629\n8   三峽區  25.0   28.0  0.892857   508.0  116058.0  0.004377\n9   樹林區  29.0   44.0  0.659091   373.0  183811.0  0.002029\n10  三重區  52.0   87.0  0.597701  1191.0  385550.0  0.003089\n11  新莊區  46.0   93.0  0.494624  1277.0  418219.0  0.003053\n12  林口區  24.0   33.0  0.727273   267.0  111589.0  0.002393\n13  蘆洲區  27.0   41.0  0.658537   736.0  201388.0  0.003655\n14  淡水區  36.0   48.0  0.750000   303.0  174652.0  0.001735"
          },
          "metadata": {}
        }
      ]
    },
    {
      "metadata": {
        "trusted": true
      },
      "cell_type": "code",
      "source": "x = np.array(df['竊盜比例'])",
      "execution_count": 111,
      "outputs": []
    },
    {
      "metadata": {
        "trusted": true
      },
      "cell_type": "code",
      "source": "y = np.array(df['有廁所比例'])",
      "execution_count": 113,
      "outputs": []
    },
    {
      "metadata": {
        "trusted": true
      },
      "cell_type": "code",
      "source": "plt.scatter(x,y)",
      "execution_count": 114,
      "outputs": [
        {
          "output_type": "execute_result",
          "execution_count": 114,
          "data": {
            "text/plain": "<matplotlib.collections.PathCollection at 0x7ff45dbcbdd8>"
          },
          "metadata": {}
        },
        {
          "output_type": "display_data",
          "data": {
            "image/png": "[encoded data removed]",
            "text/plain": "<Figure size 432x288 with 1 Axes>"
          },
          "metadata": {
            "needs_background": "light"
          }
        }
      ]
    },
    {
      "metadata": {
        "trusted": true
      },
      "cell_type": "code",
      "source": "from sklearn.linear_model import LinearRegression\nfrom sklearn.model_selection import train_test_split",
      "execution_count": 119,
      "outputs": []
    },
    {
      "metadata": {
        "trusted": true
      },
      "cell_type": "code",
      "source": "X = x.reshape(len(x),1)",
      "execution_count": 120,
      "outputs": []
    },
    {
      "metadata": {
        "trusted": true
      },
      "cell_type": "code",
      "source": "x_train ,x_test , y_train , y_test = train_test_split(X,y,test_size=0.3,random_state = 9487)",
      "execution_count": 121,
      "outputs": []
    },
    {
      "metadata": {
        "trusted": true
      },
      "cell_type": "code",
      "source": "plt.scatter(x_train,y_train)",
      "execution_count": 122,
      "outputs": [
        {
          "output_type": "execute_result",
          "execution_count": 122,
          "data": {
            "text/plain": "<matplotlib.collections.PathCollection at 0x7ff45aacc4e0>"
          },
          "metadata": {}
        },
        {
          "output_type": "display_data",
          "data": {
            "image/png": "[encoded data removed]",
            "text/plain": "<Figure size 432x288 with 1 Axes>"
          },
          "metadata": {
            "needs_background": "light"
          }
        }
      ]
    },
    {
      "metadata": {
        "trusted": true
      },
      "cell_type": "code",
      "source": "plt.scatter(x_test,y_test)",
      "execution_count": 123,
      "outputs": [
        {
          "output_type": "execute_result",
          "execution_count": 123,
          "data": {
            "text/plain": "<matplotlib.collections.PathCollection at 0x7ff45aab00b8>"
          },
          "metadata": {}
        },
        {
          "output_type": "display_data",
          "data": {
            "image/png": "[encoded data removed]",
            "text/plain": "<Figure size 432x288 with 1 Axes>"
          },
          "metadata": {
            "needs_background": "light"
          }
        }
      ]
    },
    {
      "metadata": {
        "trusted": true
      },
      "cell_type": "code",
      "source": "regr = LinearRegression()",
      "execution_count": 124,
      "outputs": []
    },
    {
      "metadata": {
        "trusted": true
      },
      "cell_type": "code",
      "source": "regr.fit(x_train,y_train)",
      "execution_count": 125,
      "outputs": [
        {
          "output_type": "execute_result",
          "execution_count": 125,
          "data": {
            "text/plain": "LinearRegression(copy_X=True, fit_intercept=True, n_jobs=1, normalize=False)"
          },
          "metadata": {}
        }
      ]
    },
    {
      "metadata": {
        "trusted": true
      },
      "cell_type": "code",
      "source": "Y_pred = regr.predict(x_test)",
      "execution_count": 126,
      "outputs": []
    },
    {
      "metadata": {
        "trusted": true
      },
      "cell_type": "code",
      "source": "plt.scatter(x_test,y_test)\nplt.plot(x_test,Y_pred,'r')",
      "execution_count": 130,
      "outputs": [
        {
          "output_type": "execute_result",
          "execution_count": 130,
          "data": {
            "text/plain": "[<matplotlib.lines.Line2D at 0x7ff45a31cf60>]"
          },
          "metadata": {}
        },
        {
          "output_type": "display_data",
          "data": {
            "image/png": "[encoded data removed]",
            "text/plain": "<Figure size 432x288 with 1 Axes>"
          },
          "metadata": {
            "needs_background": "light"
          }
        }
      ]
    },
    {
      "metadata": {
        "trusted": true
      },
      "cell_type": "code",
      "source": "",
      "execution_count": null,
      "outputs": []
    }
  ],
  "metadata": {
    "kernelspec": {
      "name": "python36",
      "display_name": "Python 3.6",
      "language": "python"
    },
    "language_info": {
      "mimetype": "text/x-python",
      "nbconvert_exporter": "python",
      "name": "python",
      "pygments_lexer": "ipython3",
      "version": "3.6.6",
      "file_extension": ".py",
      "codemirror_mode": {
        "version": 3,
        "name": "ipython"
      }
    }
  },
  "nbformat": 4,
  "nbformat_minor": 2
}